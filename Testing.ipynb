{
 "cells": [
  {
   "cell_type": "code",
   "execution_count": 1,
   "id": "a768a79a",
   "metadata": {},
   "outputs": [],
   "source": [
    "import glob\n",
    "import os\n",
    "import librosa\n",
    "import numpy as np\n",
    "import ntpath\n",
    "\n",
    "from keras.models import Sequential\n",
    "from keras.layers import Dense, Activation, Flatten, LSTM, Flatten, InputLayer, Conv1D, MaxPooling1D\n",
    "from keras.layers import Dropout, BatchNormalization, Bidirectional\n",
    "from sklearn.model_selection import train_test_split  \n",
    "from tensorflow.keras.utils import plot_model,to_categorical\n",
    "import time\n",
    "\n",
    "import pandas as pd  \n",
    "import matplotlib.pyplot as plt\n",
    "from keras.callbacks import EarlyStopping, ModelCheckpoint\n",
    "\n",
    "import random as rn\n",
    "import tensorflow as tf"
   ]
  },
  {
   "cell_type": "code",
   "execution_count": 2,
   "id": "5a128787",
   "metadata": {},
   "outputs": [],
   "source": [
    "def extract_feature(file_name):\n",
    "    X, sample_rate = librosa.load(file_name)\n",
    "    mfcc = np.mean(librosa.feature.mfcc(y=X, sr=sample_rate, n_mfcc=40), axis=1)\n",
    "    return mfcc"
   ]
  },
  {
   "cell_type": "code",
   "execution_count": 3,
   "id": "cca6c432",
   "metadata": {},
   "outputs": [],
   "source": [
    "def parse_audio_files(filename):\n",
    "    features = []\n",
    "    try:\n",
    "        print('process..', filename)\n",
    "        extracted = extract_feature(filename)\n",
    "    except Exception as e:\n",
    "        print('cannot open', e)\n",
    "    \n",
    "    features.append(extracted) \n",
    "    return np.array(features)"
   ]
  },
  {
   "cell_type": "code",
   "execution_count": 4,
   "id": "6c0782ad",
   "metadata": {},
   "outputs": [],
   "source": [
    "def create_model():  \n",
    "    model = Sequential()\n",
    "    model.add(BatchNormalization(axis=-1, input_shape=(X.shape[1], X.shape[2]))) \n",
    "    model.add(LSTM(64, return_sequences=(True)))\n",
    "    model.add(LSTM(128, return_sequences=True))\n",
    "    model.add(LSTM(256))\n",
    "    model.add(Flatten())\n",
    "    model.add(Dropout(0.2))\n",
    "    model.add(Dense(1, activation='sigmoid'))\n",
    "              \n",
    "    # model compilation\n",
    "    model.compile(loss='binary_crossentropy', metrics=['accuracy'])  \n",
    "    return model"
   ]
  },
  {
   "cell_type": "code",
   "execution_count": 11,
   "id": "499444df",
   "metadata": {},
   "outputs": [
    {
     "name": "stdout",
     "output_type": "stream",
     "text": [
      "process.. C:/Users/ARDI/Documents/Tesis/Coswara-Data/Copy/pos/pos-0drfnqVwccT6UmgVLQEuyVglDC23-cough-heavy.wav\n"
     ]
    }
   ],
   "source": [
    "filename = 'C:/Users/ARDI/Documents/Tesis/Coswara-Data/Copy/pos/pos-0drfnqVwccT6UmgVLQEuyVglDC23-cough-heavy.wav';\n",
    "X = parse_audio_files(filename);\n",
    "X = X.reshape((X.shape[0], 1, X.shape[1]))\n",
    "\n",
    "model = create_model()\n",
    "model.load_weights('./model.h5')"
   ]
  },
  {
   "cell_type": "code",
   "execution_count": 12,
   "id": "da4afdde",
   "metadata": {},
   "outputs": [
    {
     "name": "stdout",
     "output_type": "stream",
     "text": [
      "positif\n"
     ]
    }
   ],
   "source": [
    "classes = model.predict(X)\n",
    "selisih_to_0 = abs(0-classes[0][0])\n",
    "selisih_to_1 = abs(1-classes[0][0])\n",
    "if(min(selisih_to_0, selisih_to_1) == selisih_to_0):\n",
    "    print(\"negatif\")\n",
    "else:\n",
    "    print(\"positif\")"
   ]
  },
  {
   "cell_type": "code",
   "execution_count": null,
   "id": "e7a5b042",
   "metadata": {},
   "outputs": [],
   "source": []
  }
 ],
 "metadata": {
  "kernelspec": {
   "display_name": "Python 3 (ipykernel)",
   "language": "python",
   "name": "python3"
  },
  "language_info": {
   "codemirror_mode": {
    "name": "ipython",
    "version": 3
   },
   "file_extension": ".py",
   "mimetype": "text/x-python",
   "name": "python",
   "nbconvert_exporter": "python",
   "pygments_lexer": "ipython3",
   "version": "3.8.8"
  }
 },
 "nbformat": 4,
 "nbformat_minor": 5
}
