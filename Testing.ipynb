{
 "cells": [
  {
   "cell_type": "code",
   "execution_count": 1,
   "id": "a768a79a",
   "metadata": {},
   "outputs": [],
   "source": [
    "import glob\n",
    "import os\n",
    "import librosa\n",
    "import numpy as np\n",
    "import ntpath\n",
    "\n",
    "from keras.models import Sequential\n",
    "from keras.layers import Dense, Activation, Flatten, LSTM, Flatten, InputLayer, Conv1D, MaxPooling1D\n",
    "from keras.layers import Dropout, BatchNormalization, Bidirectional\n",
    "from sklearn.model_selection import train_test_split  \n",
    "from tensorflow.keras.utils import plot_model,to_categorical\n",
    "import time\n",
    "\n",
    "import pandas as pd  \n",
    "import matplotlib.pyplot as plt\n",
    "from keras.callbacks import EarlyStopping, ModelCheckpoint\n",
    "\n",
    "import random as rn\n",
    "import tensorflow as tf"
   ]
  },
  {
   "cell_type": "code",
   "execution_count": 16,
   "id": "5a128787",
   "metadata": {},
   "outputs": [],
   "source": [
    "def extract_feature(file_name):\n",
    "    X, sample_rate = librosa.load(file_name)\n",
    "    X = X[0:5645]\n",
    "    stft = np.abs(librosa.stft(X))  \n",
    "    mfcc = librosa.feature.mfcc(y=X, sr=sample_rate, n_mfcc=40).T\n",
    "    chroma = librosa.feature.chroma_stft(S=stft, sr=sample_rate).T  \n",
    "    mel = librosa.feature.melspectrogram(X, sr=sample_rate).T \n",
    "    contrast = librosa.feature.spectral_contrast(S=stft, sr=sample_rate).T  \n",
    "    tonnetz = librosa.feature.tonnetz(y=librosa.effects.harmonic(X), sr=sample_rate).T  \n",
    "    return mfcc, chroma, mel, contrast, tonnetz"
   ]
  },
  {
   "cell_type": "code",
   "execution_count": 17,
   "id": "cca6c432",
   "metadata": {},
   "outputs": [],
   "source": [
    "def parse_audio_files(filename):\n",
    "    features = []\n",
    "    try:\n",
    "        print('process..', filename)\n",
    "        extracted = extract_feature(filename)\n",
    "    except Exception as e:\n",
    "        print('cannot open', e)\n",
    "    \n",
    "    ext_features = np.hstack(extracted)\n",
    "    features.append(ext_features) \n",
    "    return np.array(features)"
   ]
  },
  {
   "cell_type": "code",
   "execution_count": 18,
   "id": "6c0782ad",
   "metadata": {},
   "outputs": [],
   "source": [
    "def create_model():  \n",
    "    model = Sequential()\n",
    "    model.add(BatchNormalization(axis=-1, input_shape=(12,193))) \n",
    "    model.add(LSTM(64, return_sequences=(True)))\n",
    "    model.add(LSTM(128, return_sequences=True))\n",
    "    model.add(LSTM(256))\n",
    "    model.add(Flatten())\n",
    "    model.add(Dropout(0.2))\n",
    "    model.add(Dense(1, activation='sigmoid'))\n",
    "              \n",
    "    # model compilation\n",
    "    model.compile(loss='binary_crossentropy', metrics=['accuracy'])  \n",
    "    return model"
   ]
  },
  {
   "cell_type": "code",
   "execution_count": 19,
   "id": "499444df",
   "metadata": {},
   "outputs": [
    {
     "name": "stdout",
     "output_type": "stream",
     "text": [
      "process.. C:/Users/ARDI/Downloads/Music/Standard 7 - 1_ Abdul Hadi.mp3\n"
     ]
    },
    {
     "name": "stderr",
     "output_type": "stream",
     "text": [
      "C:\\Users\\ARDI\\anaconda3\\lib\\site-packages\\librosa\\core\\spectrum.py:222: UserWarning: n_fft=1024 is too small for input signal of length=706\n",
      "  warnings.warn(\n",
      "C:\\Users\\ARDI\\anaconda3\\lib\\site-packages\\librosa\\core\\spectrum.py:222: UserWarning: n_fft=1024 is too small for input signal of length=353\n",
      "  warnings.warn(\n",
      "C:\\Users\\ARDI\\anaconda3\\lib\\site-packages\\librosa\\core\\spectrum.py:222: UserWarning: n_fft=1024 is too small for input signal of length=177\n",
      "  warnings.warn(\n",
      "C:\\Users\\ARDI\\anaconda3\\lib\\site-packages\\librosa\\core\\spectrum.py:222: UserWarning: n_fft=1024 is too small for input signal of length=89\n",
      "  warnings.warn(\n"
     ]
    }
   ],
   "source": [
    "filename = 'C:/Users/ARDI/Downloads/Music/Standard 7 - 1_ Abdul Hadi.mp3';\n",
    "X = parse_audio_files(filename);\n",
    "\n",
    "model = create_model()\n",
    "model.load_weights('./model.h5')"
   ]
  },
  {
   "cell_type": "code",
   "execution_count": 20,
   "id": "da4afdde",
   "metadata": {},
   "outputs": [
    {
     "name": "stdout",
     "output_type": "stream",
     "text": [
      "[[0.04056299]]\n",
      "negatif\n"
     ]
    }
   ],
   "source": [
    "classes = model.predict(X)\n",
    "print(classes)\n",
    "selisih_to_0 = abs(0-classes[0][0])\n",
    "selisih_to_1 = abs(1-classes[0][0])\n",
    "if(min(selisih_to_0, selisih_to_1) == selisih_to_0):\n",
    "    print(\"negatif\")\n",
    "else:\n",
    "    print(\"positif\")"
   ]
  },
  {
   "cell_type": "code",
   "execution_count": null,
   "id": "e7a5b042",
   "metadata": {},
   "outputs": [],
   "source": []
  }
 ],
 "metadata": {
  "kernelspec": {
   "display_name": "Python 3 (ipykernel)",
   "language": "python",
   "name": "python3"
  },
  "language_info": {
   "codemirror_mode": {
    "name": "ipython",
    "version": 3
   },
   "file_extension": ".py",
   "mimetype": "text/x-python",
   "name": "python",
   "nbconvert_exporter": "python",
   "pygments_lexer": "ipython3",
   "version": "3.8.8"
  }
 },
 "nbformat": 4,
 "nbformat_minor": 5
}
