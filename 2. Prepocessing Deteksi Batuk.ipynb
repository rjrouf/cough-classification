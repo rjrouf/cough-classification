{
 "cells": [
  {
   "cell_type": "code",
   "execution_count": 1,
   "id": "efd1dfdc",
   "metadata": {},
   "outputs": [],
   "source": [
    "import pandas as pd"
   ]
  },
  {
   "cell_type": "code",
   "execution_count": 3,
   "id": "4496cc0a",
   "metadata": {},
   "outputs": [],
   "source": [
    "real_cough = pd.read_csv('realcough.csv')\n",
    "speech = pd.read_csv('speech.csv')"
   ]
  },
  {
   "cell_type": "code",
   "execution_count": 4,
   "id": "61bc8619",
   "metadata": {},
   "outputs": [
    {
     "data": {
      "text/html": [
       "<div>\n",
       "<style scoped>\n",
       "    .dataframe tbody tr th:only-of-type {\n",
       "        vertical-align: middle;\n",
       "    }\n",
       "\n",
       "    .dataframe tbody tr th {\n",
       "        vertical-align: top;\n",
       "    }\n",
       "\n",
       "    .dataframe thead th {\n",
       "        text-align: right;\n",
       "    }\n",
       "</style>\n",
       "<table border=\"1\" class=\"dataframe\">\n",
       "  <thead>\n",
       "    <tr style=\"text-align: right;\">\n",
       "      <th></th>\n",
       "      <th>path</th>\n",
       "      <th>file_name</th>\n",
       "      <th>status</th>\n",
       "    </tr>\n",
       "  </thead>\n",
       "  <tbody>\n",
       "    <tr>\n",
       "      <th>1756</th>\n",
       "      <td>D:\\Mata Kuliah\\Tesis\\Data\\KDD_paper_data\\healt...</td>\n",
       "      <td>audio_file_cough.wav</td>\n",
       "      <td>pos</td>\n",
       "    </tr>\n",
       "    <tr>\n",
       "      <th>1757</th>\n",
       "      <td>D:\\Mata Kuliah\\Tesis\\Data\\KDD_paper_data\\healt...</td>\n",
       "      <td>audio_file_cough.wav</td>\n",
       "      <td>pos</td>\n",
       "    </tr>\n",
       "    <tr>\n",
       "      <th>1758</th>\n",
       "      <td>D:\\Mata Kuliah\\Tesis\\Data\\KDD_paper_data\\healt...</td>\n",
       "      <td>audio_file_cough.wav</td>\n",
       "      <td>pos</td>\n",
       "    </tr>\n",
       "    <tr>\n",
       "      <th>1759</th>\n",
       "      <td>D:\\Mata Kuliah\\Tesis\\Data\\KDD_paper_data\\healt...</td>\n",
       "      <td>audio_file_cough.wav</td>\n",
       "      <td>pos</td>\n",
       "    </tr>\n",
       "    <tr>\n",
       "      <th>1760</th>\n",
       "      <td>D:\\Mata Kuliah\\Tesis\\Data\\KDD_paper_data\\healt...</td>\n",
       "      <td>audio_file_cough.wav</td>\n",
       "      <td>pos</td>\n",
       "    </tr>\n",
       "  </tbody>\n",
       "</table>\n",
       "</div>"
      ],
      "text/plain": [
       "                                                   path             file_name  \\\n",
       "1756  D:\\Mata Kuliah\\Tesis\\Data\\KDD_paper_data\\healt...  audio_file_cough.wav   \n",
       "1757  D:\\Mata Kuliah\\Tesis\\Data\\KDD_paper_data\\healt...  audio_file_cough.wav   \n",
       "1758  D:\\Mata Kuliah\\Tesis\\Data\\KDD_paper_data\\healt...  audio_file_cough.wav   \n",
       "1759  D:\\Mata Kuliah\\Tesis\\Data\\KDD_paper_data\\healt...  audio_file_cough.wav   \n",
       "1760  D:\\Mata Kuliah\\Tesis\\Data\\KDD_paper_data\\healt...  audio_file_cough.wav   \n",
       "\n",
       "     status  \n",
       "1756    pos  \n",
       "1757    pos  \n",
       "1758    pos  \n",
       "1759    pos  \n",
       "1760    pos  "
      ]
     },
     "execution_count": 4,
     "metadata": {},
     "output_type": "execute_result"
    }
   ],
   "source": [
    "real_cough.tail()"
   ]
  },
  {
   "cell_type": "code",
   "execution_count": 5,
   "id": "3b410e2b",
   "metadata": {},
   "outputs": [
    {
     "data": {
      "text/html": [
       "<div>\n",
       "<style scoped>\n",
       "    .dataframe tbody tr th:only-of-type {\n",
       "        vertical-align: middle;\n",
       "    }\n",
       "\n",
       "    .dataframe tbody tr th {\n",
       "        vertical-align: top;\n",
       "    }\n",
       "\n",
       "    .dataframe thead th {\n",
       "        text-align: right;\n",
       "    }\n",
       "</style>\n",
       "<table border=\"1\" class=\"dataframe\">\n",
       "  <thead>\n",
       "    <tr style=\"text-align: right;\">\n",
       "      <th></th>\n",
       "      <th>path</th>\n",
       "      <th>file_name</th>\n",
       "    </tr>\n",
       "  </thead>\n",
       "  <tbody>\n",
       "    <tr>\n",
       "      <th>16049</th>\n",
       "      <td>D:\\Mata Kuliah\\Tesis\\Data\\Database\\mmht\\mmht_0...</td>\n",
       "      <td>mmht_0232.wav</td>\n",
       "    </tr>\n",
       "    <tr>\n",
       "      <th>16050</th>\n",
       "      <td>D:\\Mata Kuliah\\Tesis\\Data\\Database\\mmht\\mmht_0...</td>\n",
       "      <td>mmht_0233.wav</td>\n",
       "    </tr>\n",
       "    <tr>\n",
       "      <th>16051</th>\n",
       "      <td>D:\\Mata Kuliah\\Tesis\\Data\\Database\\mmht\\mmht_0...</td>\n",
       "      <td>mmht_0234.wav</td>\n",
       "    </tr>\n",
       "    <tr>\n",
       "      <th>16052</th>\n",
       "      <td>D:\\Mata Kuliah\\Tesis\\Data\\Database\\mmht\\mmht_0...</td>\n",
       "      <td>mmht_0235.wav</td>\n",
       "    </tr>\n",
       "    <tr>\n",
       "      <th>16053</th>\n",
       "      <td>D:\\Mata Kuliah\\Tesis\\Data\\Database\\mmht\\mmht_0...</td>\n",
       "      <td>mmht_0236.wav</td>\n",
       "    </tr>\n",
       "  </tbody>\n",
       "</table>\n",
       "</div>"
      ],
      "text/plain": [
       "                                                    path      file_name\n",
       "16049  D:\\Mata Kuliah\\Tesis\\Data\\Database\\mmht\\mmht_0...  mmht_0232.wav\n",
       "16050  D:\\Mata Kuliah\\Tesis\\Data\\Database\\mmht\\mmht_0...  mmht_0233.wav\n",
       "16051  D:\\Mata Kuliah\\Tesis\\Data\\Database\\mmht\\mmht_0...  mmht_0234.wav\n",
       "16052  D:\\Mata Kuliah\\Tesis\\Data\\Database\\mmht\\mmht_0...  mmht_0235.wav\n",
       "16053  D:\\Mata Kuliah\\Tesis\\Data\\Database\\mmht\\mmht_0...  mmht_0236.wav"
      ]
     },
     "execution_count": 5,
     "metadata": {},
     "output_type": "execute_result"
    }
   ],
   "source": [
    "speech.tail()"
   ]
  },
  {
   "cell_type": "code",
   "execution_count": null,
   "id": "28567d1d",
   "metadata": {},
   "outputs": [],
   "source": []
  },
  {
   "cell_type": "code",
   "execution_count": null,
   "id": "8f57a094",
   "metadata": {},
   "outputs": [],
   "source": []
  }
 ],
 "metadata": {
  "kernelspec": {
   "display_name": "Python 3 (ipykernel)",
   "language": "python",
   "name": "python3"
  },
  "language_info": {
   "codemirror_mode": {
    "name": "ipython",
    "version": 3
   },
   "file_extension": ".py",
   "mimetype": "text/x-python",
   "name": "python",
   "nbconvert_exporter": "python",
   "pygments_lexer": "ipython3",
   "version": "3.8.8"
  }
 },
 "nbformat": 4,
 "nbformat_minor": 5
}
