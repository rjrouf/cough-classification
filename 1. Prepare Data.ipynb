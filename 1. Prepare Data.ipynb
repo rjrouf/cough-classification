{
 "cells": [
  {
   "cell_type": "code",
   "execution_count": 1,
   "id": "426f4d19",
   "metadata": {},
   "outputs": [],
   "source": [
    "from pathlib import Path\n",
    "import pandas as pd"
   ]
  },
  {
   "cell_type": "markdown",
   "id": "6148e4fc",
   "metadata": {},
   "source": [
    "# Coswara"
   ]
  },
  {
   "cell_type": "code",
   "execution_count": 55,
   "id": "05184928",
   "metadata": {},
   "outputs": [],
   "source": [
    "corwara_dir = \"D:/Mata Kuliah/Tesis/Data/Coswara-Data/Copy\"\n",
    "path = Path(corwara_dir).glob(\"**/*.wav\")\n",
    "wavs = [str(wavf) for wavf in path if wavf.is_file()]\n",
    "name_file = [name.split(\"\\\\\").pop() for name in wavs]\n",
    "status = [st.split(\"-\")[0] for st in name_file]\n",
    "\n",
    "coswara_df = pd.DataFrame(list(zip(wavs,name_file,status)), columns=['path','file_name','status'])"
   ]
  },
  {
   "cell_type": "code",
   "execution_count": 79,
   "id": "e034d452",
   "metadata": {},
   "outputs": [
    {
     "data": {
      "text/html": [
       "<div>\n",
       "<style scoped>\n",
       "    .dataframe tbody tr th:only-of-type {\n",
       "        vertical-align: middle;\n",
       "    }\n",
       "\n",
       "    .dataframe tbody tr th {\n",
       "        vertical-align: top;\n",
       "    }\n",
       "\n",
       "    .dataframe thead th {\n",
       "        text-align: right;\n",
       "    }\n",
       "</style>\n",
       "<table border=\"1\" class=\"dataframe\">\n",
       "  <thead>\n",
       "    <tr style=\"text-align: right;\">\n",
       "      <th></th>\n",
       "      <th>path</th>\n",
       "      <th>file_name</th>\n",
       "      <th>status</th>\n",
       "    </tr>\n",
       "  </thead>\n",
       "  <tbody>\n",
       "    <tr>\n",
       "      <th>3208</th>\n",
       "      <td>D:\\Mata Kuliah\\Tesis\\Data\\Coswara-Data\\Copy\\co...</td>\n",
       "      <td>pos-zjVy4fN2ICMeFuBCFztx80kVtU32-cough-shallow...</td>\n",
       "      <td>pos</td>\n",
       "    </tr>\n",
       "    <tr>\n",
       "      <th>3209</th>\n",
       "      <td>D:\\Mata Kuliah\\Tesis\\Data\\Coswara-Data\\Copy\\co...</td>\n",
       "      <td>pos-zM5GsorprLYElGQ3uJwnU0g0Fwr1-cough-shallow...</td>\n",
       "      <td>pos</td>\n",
       "    </tr>\n",
       "    <tr>\n",
       "      <th>3210</th>\n",
       "      <td>D:\\Mata Kuliah\\Tesis\\Data\\Coswara-Data\\Copy\\co...</td>\n",
       "      <td>pos-Zmjv6hT2Q1VfJhGdGh9VkGmpHL03-cough-shallow...</td>\n",
       "      <td>pos</td>\n",
       "    </tr>\n",
       "    <tr>\n",
       "      <th>3211</th>\n",
       "      <td>D:\\Mata Kuliah\\Tesis\\Data\\Coswara-Data\\Copy\\co...</td>\n",
       "      <td>pos-ZpsUydPUXygszeJSVtTFjbsqoNQ2-cough-shallow...</td>\n",
       "      <td>pos</td>\n",
       "    </tr>\n",
       "    <tr>\n",
       "      <th>3212</th>\n",
       "      <td>D:\\Mata Kuliah\\Tesis\\Data\\Coswara-Data\\Copy\\co...</td>\n",
       "      <td>pos-ZzKpUtFGzsVEK7E1wsVGRftKdx93-cough-shallow...</td>\n",
       "      <td>pos</td>\n",
       "    </tr>\n",
       "  </tbody>\n",
       "</table>\n",
       "</div>"
      ],
      "text/plain": [
       "                                                   path  \\\n",
       "3208  D:\\Mata Kuliah\\Tesis\\Data\\Coswara-Data\\Copy\\co...   \n",
       "3209  D:\\Mata Kuliah\\Tesis\\Data\\Coswara-Data\\Copy\\co...   \n",
       "3210  D:\\Mata Kuliah\\Tesis\\Data\\Coswara-Data\\Copy\\co...   \n",
       "3211  D:\\Mata Kuliah\\Tesis\\Data\\Coswara-Data\\Copy\\co...   \n",
       "3212  D:\\Mata Kuliah\\Tesis\\Data\\Coswara-Data\\Copy\\co...   \n",
       "\n",
       "                                              file_name status  \n",
       "3208  pos-zjVy4fN2ICMeFuBCFztx80kVtU32-cough-shallow...    pos  \n",
       "3209  pos-zM5GsorprLYElGQ3uJwnU0g0Fwr1-cough-shallow...    pos  \n",
       "3210  pos-Zmjv6hT2Q1VfJhGdGh9VkGmpHL03-cough-shallow...    pos  \n",
       "3211  pos-ZpsUydPUXygszeJSVtTFjbsqoNQ2-cough-shallow...    pos  \n",
       "3212  pos-ZzKpUtFGzsVEK7E1wsVGRftKdx93-cough-shallow...    pos  "
      ]
     },
     "execution_count": 79,
     "metadata": {},
     "output_type": "execute_result"
    }
   ],
   "source": [
    "coswara_df.tail()"
   ]
  },
  {
   "cell_type": "markdown",
   "id": "7fe66a63",
   "metadata": {},
   "source": [
    "# Virufy"
   ]
  },
  {
   "cell_type": "code",
   "execution_count": 57,
   "id": "71d1e472",
   "metadata": {},
   "outputs": [],
   "source": [
    "virufy_dir = \"D:/Mata Kuliah/Tesis/Data/Virufy\"\n",
    "path = Path(virufy_dir).glob(\"**/*.mp3\")\n",
    "wavs = [str(wavf) for wavf in path if wavf.is_file()]\n",
    "name_file = [name.split(\"\\\\\").pop() for name in wavs]\n",
    "status = [st.split(\"-\")[0] for st in name_file]\n",
    "\n",
    "virufy_df = pd.DataFrame(list(zip(wavs,name_file,status)), columns=['path','file_name','status'])"
   ]
  },
  {
   "cell_type": "code",
   "execution_count": 80,
   "id": "e02845f1",
   "metadata": {},
   "outputs": [
    {
     "data": {
      "text/html": [
       "<div>\n",
       "<style scoped>\n",
       "    .dataframe tbody tr th:only-of-type {\n",
       "        vertical-align: middle;\n",
       "    }\n",
       "\n",
       "    .dataframe tbody tr th {\n",
       "        vertical-align: top;\n",
       "    }\n",
       "\n",
       "    .dataframe thead th {\n",
       "        text-align: right;\n",
       "    }\n",
       "</style>\n",
       "<table border=\"1\" class=\"dataframe\">\n",
       "  <thead>\n",
       "    <tr style=\"text-align: right;\">\n",
       "      <th></th>\n",
       "      <th>path</th>\n",
       "      <th>file_name</th>\n",
       "      <th>status</th>\n",
       "    </tr>\n",
       "  </thead>\n",
       "  <tbody>\n",
       "    <tr>\n",
       "      <th>113</th>\n",
       "      <td>D:\\Mata Kuliah\\Tesis\\Data\\Virufy\\pos\\pos-0421-...</td>\n",
       "      <td>pos-0421-094-cough-m-51-7.mp3</td>\n",
       "      <td>pos</td>\n",
       "    </tr>\n",
       "    <tr>\n",
       "      <th>114</th>\n",
       "      <td>D:\\Mata Kuliah\\Tesis\\Data\\Virufy\\pos\\pos-0422-...</td>\n",
       "      <td>pos-0422-096-cough-m-31-1.mp3</td>\n",
       "      <td>pos</td>\n",
       "    </tr>\n",
       "    <tr>\n",
       "      <th>115</th>\n",
       "      <td>D:\\Mata Kuliah\\Tesis\\Data\\Virufy\\pos\\pos-0422-...</td>\n",
       "      <td>pos-0422-096-cough-m-31-2.mp3</td>\n",
       "      <td>pos</td>\n",
       "    </tr>\n",
       "    <tr>\n",
       "      <th>116</th>\n",
       "      <td>D:\\Mata Kuliah\\Tesis\\Data\\Virufy\\pos\\pos-0422-...</td>\n",
       "      <td>pos-0422-096-cough-m-31-6.mp3</td>\n",
       "      <td>pos</td>\n",
       "    </tr>\n",
       "    <tr>\n",
       "      <th>117</th>\n",
       "      <td>D:\\Mata Kuliah\\Tesis\\Data\\Virufy\\pos\\pos-0422-...</td>\n",
       "      <td>pos-0422-096-cough-m-31-8.mp3</td>\n",
       "      <td>pos</td>\n",
       "    </tr>\n",
       "  </tbody>\n",
       "</table>\n",
       "</div>"
      ],
      "text/plain": [
       "                                                  path  \\\n",
       "113  D:\\Mata Kuliah\\Tesis\\Data\\Virufy\\pos\\pos-0421-...   \n",
       "114  D:\\Mata Kuliah\\Tesis\\Data\\Virufy\\pos\\pos-0422-...   \n",
       "115  D:\\Mata Kuliah\\Tesis\\Data\\Virufy\\pos\\pos-0422-...   \n",
       "116  D:\\Mata Kuliah\\Tesis\\Data\\Virufy\\pos\\pos-0422-...   \n",
       "117  D:\\Mata Kuliah\\Tesis\\Data\\Virufy\\pos\\pos-0422-...   \n",
       "\n",
       "                         file_name status  \n",
       "113  pos-0421-094-cough-m-51-7.mp3    pos  \n",
       "114  pos-0422-096-cough-m-31-1.mp3    pos  \n",
       "115  pos-0422-096-cough-m-31-2.mp3    pos  \n",
       "116  pos-0422-096-cough-m-31-6.mp3    pos  \n",
       "117  pos-0422-096-cough-m-31-8.mp3    pos  "
      ]
     },
     "execution_count": 80,
     "metadata": {},
     "output_type": "execute_result"
    }
   ],
   "source": [
    "virufy_df.tail()"
   ]
  },
  {
   "cell_type": "markdown",
   "id": "c19308c1",
   "metadata": {},
   "source": [
    "# Compare1"
   ]
  },
  {
   "cell_type": "code",
   "execution_count": 59,
   "id": "08505ba3",
   "metadata": {},
   "outputs": [],
   "source": [
    "compare1_dir = \"D:/Mata Kuliah/Tesis/Data/ComParE2021-CCS-CSS-Data/Copy1\"\n",
    "path = Path(compare1_dir).glob(\"**/*.wav\")\n",
    "wavs = [str(wavf) for wavf in path if wavf.is_file()]\n",
    "name_file = [name.split(\"\\\\\").pop() for name in wavs]\n",
    "status = [st.split(\"-\")[0] for st in name_file]\n",
    "\n",
    "compare1_df = pd.DataFrame(list(zip(wavs,name_file,status)), columns=['path','file_name','status'])"
   ]
  },
  {
   "cell_type": "code",
   "execution_count": 81,
   "id": "e5003054",
   "metadata": {},
   "outputs": [
    {
     "data": {
      "text/html": [
       "<div>\n",
       "<style scoped>\n",
       "    .dataframe tbody tr th:only-of-type {\n",
       "        vertical-align: middle;\n",
       "    }\n",
       "\n",
       "    .dataframe tbody tr th {\n",
       "        vertical-align: top;\n",
       "    }\n",
       "\n",
       "    .dataframe thead th {\n",
       "        text-align: right;\n",
       "    }\n",
       "</style>\n",
       "<table border=\"1\" class=\"dataframe\">\n",
       "  <thead>\n",
       "    <tr style=\"text-align: right;\">\n",
       "      <th></th>\n",
       "      <th>path</th>\n",
       "      <th>file_name</th>\n",
       "      <th>status</th>\n",
       "    </tr>\n",
       "  </thead>\n",
       "  <tbody>\n",
       "    <tr>\n",
       "      <th>720</th>\n",
       "      <td>D:\\Mata Kuliah\\Tesis\\Data\\ComParE2021-CCS-CSS-...</td>\n",
       "      <td>pos-train_277.wav</td>\n",
       "      <td>pos</td>\n",
       "    </tr>\n",
       "    <tr>\n",
       "      <th>721</th>\n",
       "      <td>D:\\Mata Kuliah\\Tesis\\Data\\ComParE2021-CCS-CSS-...</td>\n",
       "      <td>pos-train_278.wav</td>\n",
       "      <td>pos</td>\n",
       "    </tr>\n",
       "    <tr>\n",
       "      <th>722</th>\n",
       "      <td>D:\\Mata Kuliah\\Tesis\\Data\\ComParE2021-CCS-CSS-...</td>\n",
       "      <td>pos-train_279.wav</td>\n",
       "      <td>pos</td>\n",
       "    </tr>\n",
       "    <tr>\n",
       "      <th>723</th>\n",
       "      <td>D:\\Mata Kuliah\\Tesis\\Data\\ComParE2021-CCS-CSS-...</td>\n",
       "      <td>pos-train_280.wav</td>\n",
       "      <td>pos</td>\n",
       "    </tr>\n",
       "    <tr>\n",
       "      <th>724</th>\n",
       "      <td>D:\\Mata Kuliah\\Tesis\\Data\\ComParE2021-CCS-CSS-...</td>\n",
       "      <td>pos-train_285.wav</td>\n",
       "      <td>pos</td>\n",
       "    </tr>\n",
       "  </tbody>\n",
       "</table>\n",
       "</div>"
      ],
      "text/plain": [
       "                                                  path          file_name  \\\n",
       "720  D:\\Mata Kuliah\\Tesis\\Data\\ComParE2021-CCS-CSS-...  pos-train_277.wav   \n",
       "721  D:\\Mata Kuliah\\Tesis\\Data\\ComParE2021-CCS-CSS-...  pos-train_278.wav   \n",
       "722  D:\\Mata Kuliah\\Tesis\\Data\\ComParE2021-CCS-CSS-...  pos-train_279.wav   \n",
       "723  D:\\Mata Kuliah\\Tesis\\Data\\ComParE2021-CCS-CSS-...  pos-train_280.wav   \n",
       "724  D:\\Mata Kuliah\\Tesis\\Data\\ComParE2021-CCS-CSS-...  pos-train_285.wav   \n",
       "\n",
       "    status  \n",
       "720    pos  \n",
       "721    pos  \n",
       "722    pos  \n",
       "723    pos  \n",
       "724    pos  "
      ]
     },
     "execution_count": 81,
     "metadata": {},
     "output_type": "execute_result"
    }
   ],
   "source": [
    "compare1_df.tail()"
   ]
  },
  {
   "cell_type": "markdown",
   "id": "604b233b",
   "metadata": {},
   "source": [
    "# Compare2"
   ]
  },
  {
   "cell_type": "code",
   "execution_count": 61,
   "id": "55219640",
   "metadata": {},
   "outputs": [],
   "source": [
    "compare2_dir = \"D:/Mata Kuliah/Tesis/Data/ComParE2021-CCS-CSS-Data/Copy2\"\n",
    "path = Path(compare2_dir).glob(\"**/*.wav\")\n",
    "wavs = [str(wavf) for wavf in path if wavf.is_file()]\n",
    "name_file = [name.split(\"\\\\\").pop() for name in wavs]\n",
    "status = [st.split(\"-\")[0] for st in name_file]\n",
    "\n",
    "compare2_df = pd.DataFrame(list(zip(wavs,name_file,status)), columns=['path','file_name','status'])"
   ]
  },
  {
   "cell_type": "code",
   "execution_count": 62,
   "id": "d493b004",
   "metadata": {},
   "outputs": [
    {
     "data": {
      "text/html": [
       "<div>\n",
       "<style scoped>\n",
       "    .dataframe tbody tr th:only-of-type {\n",
       "        vertical-align: middle;\n",
       "    }\n",
       "\n",
       "    .dataframe tbody tr th {\n",
       "        vertical-align: top;\n",
       "    }\n",
       "\n",
       "    .dataframe thead th {\n",
       "        text-align: right;\n",
       "    }\n",
       "</style>\n",
       "<table border=\"1\" class=\"dataframe\">\n",
       "  <thead>\n",
       "    <tr style=\"text-align: right;\">\n",
       "      <th></th>\n",
       "      <th>path</th>\n",
       "      <th>file_name</th>\n",
       "      <th>status</th>\n",
       "    </tr>\n",
       "  </thead>\n",
       "  <tbody>\n",
       "    <tr>\n",
       "      <th>888</th>\n",
       "      <td>D:\\Mata Kuliah\\Tesis\\Data\\ComParE2021-CCS-CSS-...</td>\n",
       "      <td>pos-train_298.wav</td>\n",
       "      <td>pos</td>\n",
       "    </tr>\n",
       "    <tr>\n",
       "      <th>889</th>\n",
       "      <td>D:\\Mata Kuliah\\Tesis\\Data\\ComParE2021-CCS-CSS-...</td>\n",
       "      <td>pos-train_300.wav</td>\n",
       "      <td>pos</td>\n",
       "    </tr>\n",
       "    <tr>\n",
       "      <th>890</th>\n",
       "      <td>D:\\Mata Kuliah\\Tesis\\Data\\ComParE2021-CCS-CSS-...</td>\n",
       "      <td>pos-train_303.wav</td>\n",
       "      <td>pos</td>\n",
       "    </tr>\n",
       "    <tr>\n",
       "      <th>891</th>\n",
       "      <td>D:\\Mata Kuliah\\Tesis\\Data\\ComParE2021-CCS-CSS-...</td>\n",
       "      <td>pos-train_309.wav</td>\n",
       "      <td>pos</td>\n",
       "    </tr>\n",
       "    <tr>\n",
       "      <th>892</th>\n",
       "      <td>D:\\Mata Kuliah\\Tesis\\Data\\ComParE2021-CCS-CSS-...</td>\n",
       "      <td>pos-train_312.wav</td>\n",
       "      <td>pos</td>\n",
       "    </tr>\n",
       "  </tbody>\n",
       "</table>\n",
       "</div>"
      ],
      "text/plain": [
       "                                                  path          file_name  \\\n",
       "888  D:\\Mata Kuliah\\Tesis\\Data\\ComParE2021-CCS-CSS-...  pos-train_298.wav   \n",
       "889  D:\\Mata Kuliah\\Tesis\\Data\\ComParE2021-CCS-CSS-...  pos-train_300.wav   \n",
       "890  D:\\Mata Kuliah\\Tesis\\Data\\ComParE2021-CCS-CSS-...  pos-train_303.wav   \n",
       "891  D:\\Mata Kuliah\\Tesis\\Data\\ComParE2021-CCS-CSS-...  pos-train_309.wav   \n",
       "892  D:\\Mata Kuliah\\Tesis\\Data\\ComParE2021-CCS-CSS-...  pos-train_312.wav   \n",
       "\n",
       "    status  \n",
       "888    pos  \n",
       "889    pos  \n",
       "890    pos  \n",
       "891    pos  \n",
       "892    pos  "
      ]
     },
     "execution_count": 62,
     "metadata": {},
     "output_type": "execute_result"
    }
   ],
   "source": [
    "compare2_df.tail()"
   ]
  },
  {
   "cell_type": "markdown",
   "id": "6a427681",
   "metadata": {},
   "source": [
    "# KDD"
   ]
  },
  {
   "cell_type": "code",
   "execution_count": 10,
   "id": "b379e47c",
   "metadata": {},
   "outputs": [],
   "source": [
    "kdd_pos_android_dir = \"D:/Mata Kuliah/Tesis/Data/KDD_paper_data/covidandroidwithcough/cough\"\n",
    "kdd_pos_web_dir = \"D:/Mata Kuliah/Tesis/Data/KDD_paper_data/covidwebwithcough\"\n",
    "kdd_neg_android_dir = \"D:/Mata Kuliah/Tesis/Data/KDD_paper_data/healthyandroidwithcough/cough\"\n",
    "kdd_neg_web_dir = \"D:/Mata Kuliah/Tesis/Data/KDD_paper_data/healthywebwithcough\""
   ]
  },
  {
   "cell_type": "markdown",
   "id": "f2abbcb3",
   "metadata": {},
   "source": [
    "#### kdd_pos_android"
   ]
  },
  {
   "cell_type": "code",
   "execution_count": 63,
   "id": "1256838d",
   "metadata": {},
   "outputs": [],
   "source": [
    "path = Path(kdd_pos_android_dir).glob(\"**/*.wav\")\n",
    "wavs = [str(wavf) for wavf in path if wavf.is_file()]\n",
    "name_file = [name.split(\"\\\\\").pop() for name in wavs]\n",
    "status = ['pos' for n in name_file]\n",
    "\n",
    "kdd_pos_android_df = pd.DataFrame(list(zip(wavs,name_file,status)), columns=['path','file_name','status'])"
   ]
  },
  {
   "cell_type": "code",
   "execution_count": 64,
   "id": "0f8c2485",
   "metadata": {},
   "outputs": [
    {
     "data": {
      "text/html": [
       "<div>\n",
       "<style scoped>\n",
       "    .dataframe tbody tr th:only-of-type {\n",
       "        vertical-align: middle;\n",
       "    }\n",
       "\n",
       "    .dataframe tbody tr th {\n",
       "        vertical-align: top;\n",
       "    }\n",
       "\n",
       "    .dataframe thead th {\n",
       "        text-align: right;\n",
       "    }\n",
       "</style>\n",
       "<table border=\"1\" class=\"dataframe\">\n",
       "  <thead>\n",
       "    <tr style=\"text-align: right;\">\n",
       "      <th></th>\n",
       "      <th>path</th>\n",
       "      <th>file_name</th>\n",
       "      <th>status</th>\n",
       "    </tr>\n",
       "  </thead>\n",
       "  <tbody>\n",
       "    <tr>\n",
       "      <th>41</th>\n",
       "      <td>D:\\Mata Kuliah\\Tesis\\Data\\KDD_paper_data\\covid...</td>\n",
       "      <td>cough_zv02Ygabqh_1587712162451.wav</td>\n",
       "      <td>pos</td>\n",
       "    </tr>\n",
       "    <tr>\n",
       "      <th>42</th>\n",
       "      <td>D:\\Mata Kuliah\\Tesis\\Data\\KDD_paper_data\\covid...</td>\n",
       "      <td>cough_zv02Ygabqh_1587885328542.wav</td>\n",
       "      <td>pos</td>\n",
       "    </tr>\n",
       "    <tr>\n",
       "      <th>43</th>\n",
       "      <td>D:\\Mata Kuliah\\Tesis\\Data\\KDD_paper_data\\covid...</td>\n",
       "      <td>cough_zv02Ygabqh_1587977656343.wav</td>\n",
       "      <td>pos</td>\n",
       "    </tr>\n",
       "    <tr>\n",
       "      <th>44</th>\n",
       "      <td>D:\\Mata Kuliah\\Tesis\\Data\\KDD_paper_data\\covid...</td>\n",
       "      <td>cough_zv02Ygabqh_1588064017866.wav</td>\n",
       "      <td>pos</td>\n",
       "    </tr>\n",
       "    <tr>\n",
       "      <th>45</th>\n",
       "      <td>D:\\Mata Kuliah\\Tesis\\Data\\KDD_paper_data\\covid...</td>\n",
       "      <td>cough_zv02Ygabqh_1588143111003.wav</td>\n",
       "      <td>pos</td>\n",
       "    </tr>\n",
       "  </tbody>\n",
       "</table>\n",
       "</div>"
      ],
      "text/plain": [
       "                                                 path  \\\n",
       "41  D:\\Mata Kuliah\\Tesis\\Data\\KDD_paper_data\\covid...   \n",
       "42  D:\\Mata Kuliah\\Tesis\\Data\\KDD_paper_data\\covid...   \n",
       "43  D:\\Mata Kuliah\\Tesis\\Data\\KDD_paper_data\\covid...   \n",
       "44  D:\\Mata Kuliah\\Tesis\\Data\\KDD_paper_data\\covid...   \n",
       "45  D:\\Mata Kuliah\\Tesis\\Data\\KDD_paper_data\\covid...   \n",
       "\n",
       "                             file_name status  \n",
       "41  cough_zv02Ygabqh_1587712162451.wav    pos  \n",
       "42  cough_zv02Ygabqh_1587885328542.wav    pos  \n",
       "43  cough_zv02Ygabqh_1587977656343.wav    pos  \n",
       "44  cough_zv02Ygabqh_1588064017866.wav    pos  \n",
       "45  cough_zv02Ygabqh_1588143111003.wav    pos  "
      ]
     },
     "execution_count": 64,
     "metadata": {},
     "output_type": "execute_result"
    }
   ],
   "source": [
    "kdd_pos_android_df.tail()"
   ]
  },
  {
   "cell_type": "markdown",
   "id": "8aa5a8da",
   "metadata": {},
   "source": [
    "#### kdd_pos_web "
   ]
  },
  {
   "cell_type": "code",
   "execution_count": 65,
   "id": "c4b20605",
   "metadata": {},
   "outputs": [],
   "source": [
    "path = Path(kdd_pos_web_dir).glob(\"**/audio_file_cough.wav\")\n",
    "wavs = [str(wavf) for wavf in path if wavf.is_file()]\n",
    "name_file = [name.split(\"\\\\\").pop() for name in wavs]\n",
    "status = ['pos' for n in name_file]\n",
    "\n",
    "kdd_pos_web_df = pd.DataFrame(list(zip(wavs,name_file,status)), columns=['path','file_name','status'])"
   ]
  },
  {
   "cell_type": "code",
   "execution_count": 66,
   "id": "d8685caf",
   "metadata": {},
   "outputs": [
    {
     "data": {
      "text/html": [
       "<div>\n",
       "<style scoped>\n",
       "    .dataframe tbody tr th:only-of-type {\n",
       "        vertical-align: middle;\n",
       "    }\n",
       "\n",
       "    .dataframe tbody tr th {\n",
       "        vertical-align: top;\n",
       "    }\n",
       "\n",
       "    .dataframe thead th {\n",
       "        text-align: right;\n",
       "    }\n",
       "</style>\n",
       "<table border=\"1\" class=\"dataframe\">\n",
       "  <thead>\n",
       "    <tr style=\"text-align: right;\">\n",
       "      <th></th>\n",
       "      <th>path</th>\n",
       "      <th>file_name</th>\n",
       "      <th>status</th>\n",
       "    </tr>\n",
       "  </thead>\n",
       "  <tbody>\n",
       "    <tr>\n",
       "      <th>3</th>\n",
       "      <td>D:\\Mata Kuliah\\Tesis\\Data\\KDD_paper_data\\covid...</td>\n",
       "      <td>audio_file_cough.wav</td>\n",
       "      <td>pos</td>\n",
       "    </tr>\n",
       "    <tr>\n",
       "      <th>4</th>\n",
       "      <td>D:\\Mata Kuliah\\Tesis\\Data\\KDD_paper_data\\covid...</td>\n",
       "      <td>audio_file_cough.wav</td>\n",
       "      <td>pos</td>\n",
       "    </tr>\n",
       "    <tr>\n",
       "      <th>5</th>\n",
       "      <td>D:\\Mata Kuliah\\Tesis\\Data\\KDD_paper_data\\covid...</td>\n",
       "      <td>audio_file_cough.wav</td>\n",
       "      <td>pos</td>\n",
       "    </tr>\n",
       "    <tr>\n",
       "      <th>6</th>\n",
       "      <td>D:\\Mata Kuliah\\Tesis\\Data\\KDD_paper_data\\covid...</td>\n",
       "      <td>audio_file_cough.wav</td>\n",
       "      <td>pos</td>\n",
       "    </tr>\n",
       "    <tr>\n",
       "      <th>7</th>\n",
       "      <td>D:\\Mata Kuliah\\Tesis\\Data\\KDD_paper_data\\covid...</td>\n",
       "      <td>audio_file_cough.wav</td>\n",
       "      <td>pos</td>\n",
       "    </tr>\n",
       "  </tbody>\n",
       "</table>\n",
       "</div>"
      ],
      "text/plain": [
       "                                                path             file_name  \\\n",
       "3  D:\\Mata Kuliah\\Tesis\\Data\\KDD_paper_data\\covid...  audio_file_cough.wav   \n",
       "4  D:\\Mata Kuliah\\Tesis\\Data\\KDD_paper_data\\covid...  audio_file_cough.wav   \n",
       "5  D:\\Mata Kuliah\\Tesis\\Data\\KDD_paper_data\\covid...  audio_file_cough.wav   \n",
       "6  D:\\Mata Kuliah\\Tesis\\Data\\KDD_paper_data\\covid...  audio_file_cough.wav   \n",
       "7  D:\\Mata Kuliah\\Tesis\\Data\\KDD_paper_data\\covid...  audio_file_cough.wav   \n",
       "\n",
       "  status  \n",
       "3    pos  \n",
       "4    pos  \n",
       "5    pos  \n",
       "6    pos  \n",
       "7    pos  "
      ]
     },
     "execution_count": 66,
     "metadata": {},
     "output_type": "execute_result"
    }
   ],
   "source": [
    "kdd_pos_web_df.tail()"
   ]
  },
  {
   "cell_type": "markdown",
   "id": "46471969",
   "metadata": {},
   "source": [
    "#### kdd_neg_android "
   ]
  },
  {
   "cell_type": "code",
   "execution_count": 67,
   "id": "87d52bb3",
   "metadata": {},
   "outputs": [],
   "source": [
    "path = Path(kdd_neg_android_dir).glob(\"**/cough*.wav\")\n",
    "wavs = [str(wavf) for wavf in path if wavf.is_file()]\n",
    "name_file = [name.split(\"\\\\\").pop() for name in wavs]\n",
    "status = ['neg' for n in name_file]\n",
    "\n",
    "kdd_neg_android_df = pd.DataFrame(list(zip(wavs,name_file,status)), columns=['path','file_name','status'])"
   ]
  },
  {
   "cell_type": "code",
   "execution_count": 68,
   "id": "a1155011",
   "metadata": {},
   "outputs": [
    {
     "data": {
      "text/html": [
       "<div>\n",
       "<style scoped>\n",
       "    .dataframe tbody tr th:only-of-type {\n",
       "        vertical-align: middle;\n",
       "    }\n",
       "\n",
       "    .dataframe tbody tr th {\n",
       "        vertical-align: top;\n",
       "    }\n",
       "\n",
       "    .dataframe thead th {\n",
       "        text-align: right;\n",
       "    }\n",
       "</style>\n",
       "<table border=\"1\" class=\"dataframe\">\n",
       "  <thead>\n",
       "    <tr style=\"text-align: right;\">\n",
       "      <th></th>\n",
       "      <th>path</th>\n",
       "      <th>file_name</th>\n",
       "      <th>status</th>\n",
       "    </tr>\n",
       "  </thead>\n",
       "  <tbody>\n",
       "    <tr>\n",
       "      <th>59</th>\n",
       "      <td>D:\\Mata Kuliah\\Tesis\\Data\\KDD_paper_data\\healt...</td>\n",
       "      <td>cough_yfW1c2NlCx_1586974588221.wav_aug_noise1.wav</td>\n",
       "      <td>neg</td>\n",
       "    </tr>\n",
       "    <tr>\n",
       "      <th>60</th>\n",
       "      <td>D:\\Mata Kuliah\\Tesis\\Data\\KDD_paper_data\\healt...</td>\n",
       "      <td>cough_yfW1c2NlCx_1586974588221.wav_aug_noise2.wav</td>\n",
       "      <td>neg</td>\n",
       "    </tr>\n",
       "    <tr>\n",
       "      <th>61</th>\n",
       "      <td>D:\\Mata Kuliah\\Tesis\\Data\\KDD_paper_data\\healt...</td>\n",
       "      <td>cough_yfW1c2NlCx_1586974588221.wav_aug_pitchsp...</td>\n",
       "      <td>neg</td>\n",
       "    </tr>\n",
       "    <tr>\n",
       "      <th>62</th>\n",
       "      <td>D:\\Mata Kuliah\\Tesis\\Data\\KDD_paper_data\\healt...</td>\n",
       "      <td>cough_yfW1c2NlCx_1586974588221.wav_aug_pitchsp...</td>\n",
       "      <td>neg</td>\n",
       "    </tr>\n",
       "    <tr>\n",
       "      <th>63</th>\n",
       "      <td>D:\\Mata Kuliah\\Tesis\\Data\\KDD_paper_data\\healt...</td>\n",
       "      <td>cough_yfW1c2NlCx_1586974588221_mono.wav</td>\n",
       "      <td>neg</td>\n",
       "    </tr>\n",
       "  </tbody>\n",
       "</table>\n",
       "</div>"
      ],
      "text/plain": [
       "                                                 path  \\\n",
       "59  D:\\Mata Kuliah\\Tesis\\Data\\KDD_paper_data\\healt...   \n",
       "60  D:\\Mata Kuliah\\Tesis\\Data\\KDD_paper_data\\healt...   \n",
       "61  D:\\Mata Kuliah\\Tesis\\Data\\KDD_paper_data\\healt...   \n",
       "62  D:\\Mata Kuliah\\Tesis\\Data\\KDD_paper_data\\healt...   \n",
       "63  D:\\Mata Kuliah\\Tesis\\Data\\KDD_paper_data\\healt...   \n",
       "\n",
       "                                            file_name status  \n",
       "59  cough_yfW1c2NlCx_1586974588221.wav_aug_noise1.wav    neg  \n",
       "60  cough_yfW1c2NlCx_1586974588221.wav_aug_noise2.wav    neg  \n",
       "61  cough_yfW1c2NlCx_1586974588221.wav_aug_pitchsp...    neg  \n",
       "62  cough_yfW1c2NlCx_1586974588221.wav_aug_pitchsp...    neg  \n",
       "63            cough_yfW1c2NlCx_1586974588221_mono.wav    neg  "
      ]
     },
     "execution_count": 68,
     "metadata": {},
     "output_type": "execute_result"
    }
   ],
   "source": [
    "kdd_neg_android_df.tail()"
   ]
  },
  {
   "cell_type": "markdown",
   "id": "9c3bc3fc",
   "metadata": {},
   "source": [
    "#### kdd_neg_web "
   ]
  },
  {
   "cell_type": "code",
   "execution_count": 69,
   "id": "32a72837",
   "metadata": {},
   "outputs": [],
   "source": [
    "path = Path(kdd_neg_web_dir).glob(\"**/audio_file_cough.wav\")\n",
    "wavs = [str(wavf) for wavf in path if wavf.is_file()]\n",
    "name_file = [name.split(\"\\\\\").pop() for name in wavs]\n",
    "status = ['pos' for n in name_file]\n",
    "\n",
    "kdd_neg_web_df = pd.DataFrame(list(zip(wavs,name_file,status)), columns=['path','file_name','status'])"
   ]
  },
  {
   "cell_type": "code",
   "execution_count": 70,
   "id": "653846db",
   "metadata": {},
   "outputs": [
    {
     "data": {
      "text/html": [
       "<div>\n",
       "<style scoped>\n",
       "    .dataframe tbody tr th:only-of-type {\n",
       "        vertical-align: middle;\n",
       "    }\n",
       "\n",
       "    .dataframe tbody tr th {\n",
       "        vertical-align: top;\n",
       "    }\n",
       "\n",
       "    .dataframe thead th {\n",
       "        text-align: right;\n",
       "    }\n",
       "</style>\n",
       "<table border=\"1\" class=\"dataframe\">\n",
       "  <thead>\n",
       "    <tr style=\"text-align: right;\">\n",
       "      <th></th>\n",
       "      <th>path</th>\n",
       "      <th>file_name</th>\n",
       "      <th>status</th>\n",
       "    </tr>\n",
       "  </thead>\n",
       "  <tbody>\n",
       "    <tr>\n",
       "      <th>20</th>\n",
       "      <td>D:\\Mata Kuliah\\Tesis\\Data\\KDD_paper_data\\healt...</td>\n",
       "      <td>audio_file_cough.wav</td>\n",
       "      <td>pos</td>\n",
       "    </tr>\n",
       "    <tr>\n",
       "      <th>21</th>\n",
       "      <td>D:\\Mata Kuliah\\Tesis\\Data\\KDD_paper_data\\healt...</td>\n",
       "      <td>audio_file_cough.wav</td>\n",
       "      <td>pos</td>\n",
       "    </tr>\n",
       "    <tr>\n",
       "      <th>22</th>\n",
       "      <td>D:\\Mata Kuliah\\Tesis\\Data\\KDD_paper_data\\healt...</td>\n",
       "      <td>audio_file_cough.wav</td>\n",
       "      <td>pos</td>\n",
       "    </tr>\n",
       "    <tr>\n",
       "      <th>23</th>\n",
       "      <td>D:\\Mata Kuliah\\Tesis\\Data\\KDD_paper_data\\healt...</td>\n",
       "      <td>audio_file_cough.wav</td>\n",
       "      <td>pos</td>\n",
       "    </tr>\n",
       "    <tr>\n",
       "      <th>24</th>\n",
       "      <td>D:\\Mata Kuliah\\Tesis\\Data\\KDD_paper_data\\healt...</td>\n",
       "      <td>audio_file_cough.wav</td>\n",
       "      <td>pos</td>\n",
       "    </tr>\n",
       "  </tbody>\n",
       "</table>\n",
       "</div>"
      ],
      "text/plain": [
       "                                                 path             file_name  \\\n",
       "20  D:\\Mata Kuliah\\Tesis\\Data\\KDD_paper_data\\healt...  audio_file_cough.wav   \n",
       "21  D:\\Mata Kuliah\\Tesis\\Data\\KDD_paper_data\\healt...  audio_file_cough.wav   \n",
       "22  D:\\Mata Kuliah\\Tesis\\Data\\KDD_paper_data\\healt...  audio_file_cough.wav   \n",
       "23  D:\\Mata Kuliah\\Tesis\\Data\\KDD_paper_data\\healt...  audio_file_cough.wav   \n",
       "24  D:\\Mata Kuliah\\Tesis\\Data\\KDD_paper_data\\healt...  audio_file_cough.wav   \n",
       "\n",
       "   status  \n",
       "20    pos  \n",
       "21    pos  \n",
       "22    pos  \n",
       "23    pos  \n",
       "24    pos  "
      ]
     },
     "execution_count": 70,
     "metadata": {},
     "output_type": "execute_result"
    }
   ],
   "source": [
    "kdd_neg_web_df.tail()"
   ]
  },
  {
   "cell_type": "markdown",
   "id": "38a9ff10",
   "metadata": {},
   "source": [
    "# Speech"
   ]
  },
  {
   "cell_type": "code",
   "execution_count": 71,
   "id": "74d471fb",
   "metadata": {},
   "outputs": [],
   "source": [
    "speech_dir = \"D:/Mata Kuliah/Tesis/Data/Database\"\n",
    "path = Path(speech_dir).glob(\"**/*.wav\")\n",
    "wavs = [str(wavf) for wavf in path if wavf.is_file()]\n",
    "name_file = [name.split(\"\\\\\").pop() for name in wavs]\n",
    "\n",
    "speech_df = pd.DataFrame(list(zip(wavs,name_file)), columns=['path','file_name'])"
   ]
  },
  {
   "cell_type": "code",
   "execution_count": 72,
   "id": "52cc4846",
   "metadata": {},
   "outputs": [
    {
     "data": {
      "text/html": [
       "<div>\n",
       "<style scoped>\n",
       "    .dataframe tbody tr th:only-of-type {\n",
       "        vertical-align: middle;\n",
       "    }\n",
       "\n",
       "    .dataframe tbody tr th {\n",
       "        vertical-align: top;\n",
       "    }\n",
       "\n",
       "    .dataframe thead th {\n",
       "        text-align: right;\n",
       "    }\n",
       "</style>\n",
       "<table border=\"1\" class=\"dataframe\">\n",
       "  <thead>\n",
       "    <tr style=\"text-align: right;\">\n",
       "      <th></th>\n",
       "      <th>path</th>\n",
       "      <th>file_name</th>\n",
       "    </tr>\n",
       "  </thead>\n",
       "  <tbody>\n",
       "    <tr>\n",
       "      <th>16049</th>\n",
       "      <td>D:\\Mata Kuliah\\Tesis\\Data\\Database\\mmht\\mmht_0...</td>\n",
       "      <td>mmht_0232.wav</td>\n",
       "    </tr>\n",
       "    <tr>\n",
       "      <th>16050</th>\n",
       "      <td>D:\\Mata Kuliah\\Tesis\\Data\\Database\\mmht\\mmht_0...</td>\n",
       "      <td>mmht_0233.wav</td>\n",
       "    </tr>\n",
       "    <tr>\n",
       "      <th>16051</th>\n",
       "      <td>D:\\Mata Kuliah\\Tesis\\Data\\Database\\mmht\\mmht_0...</td>\n",
       "      <td>mmht_0234.wav</td>\n",
       "    </tr>\n",
       "    <tr>\n",
       "      <th>16052</th>\n",
       "      <td>D:\\Mata Kuliah\\Tesis\\Data\\Database\\mmht\\mmht_0...</td>\n",
       "      <td>mmht_0235.wav</td>\n",
       "    </tr>\n",
       "    <tr>\n",
       "      <th>16053</th>\n",
       "      <td>D:\\Mata Kuliah\\Tesis\\Data\\Database\\mmht\\mmht_0...</td>\n",
       "      <td>mmht_0236.wav</td>\n",
       "    </tr>\n",
       "  </tbody>\n",
       "</table>\n",
       "</div>"
      ],
      "text/plain": [
       "                                                    path      file_name\n",
       "16049  D:\\Mata Kuliah\\Tesis\\Data\\Database\\mmht\\mmht_0...  mmht_0232.wav\n",
       "16050  D:\\Mata Kuliah\\Tesis\\Data\\Database\\mmht\\mmht_0...  mmht_0233.wav\n",
       "16051  D:\\Mata Kuliah\\Tesis\\Data\\Database\\mmht\\mmht_0...  mmht_0234.wav\n",
       "16052  D:\\Mata Kuliah\\Tesis\\Data\\Database\\mmht\\mmht_0...  mmht_0235.wav\n",
       "16053  D:\\Mata Kuliah\\Tesis\\Data\\Database\\mmht\\mmht_0...  mmht_0236.wav"
      ]
     },
     "execution_count": 72,
     "metadata": {},
     "output_type": "execute_result"
    }
   ],
   "source": [
    "speech_df.tail()"
   ]
  },
  {
   "cell_type": "markdown",
   "id": "05cc960a",
   "metadata": {},
   "source": [
    "# Data Pooling"
   ]
  },
  {
   "cell_type": "markdown",
   "id": "ac516838",
   "metadata": {},
   "source": [
    "### Cough "
   ]
  },
  {
   "cell_type": "code",
   "execution_count": 75,
   "id": "2c471fd8",
   "metadata": {},
   "outputs": [],
   "source": [
    "list_cough_df = [coswara_df, virufy_df, compare1_df, compare2_df, kdd_pos_android_df, kdd_pos_web_df, kdd_neg_android_df, kdd_neg_web_df]\n",
    "cough_df = pd.concat(list_cough_df, ignore_index=True)"
   ]
  },
  {
   "cell_type": "code",
   "execution_count": 76,
   "id": "ab7b1e36",
   "metadata": {},
   "outputs": [
    {
     "data": {
      "text/html": [
       "<div>\n",
       "<style scoped>\n",
       "    .dataframe tbody tr th:only-of-type {\n",
       "        vertical-align: middle;\n",
       "    }\n",
       "\n",
       "    .dataframe tbody tr th {\n",
       "        vertical-align: top;\n",
       "    }\n",
       "\n",
       "    .dataframe thead th {\n",
       "        text-align: right;\n",
       "    }\n",
       "</style>\n",
       "<table border=\"1\" class=\"dataframe\">\n",
       "  <thead>\n",
       "    <tr style=\"text-align: right;\">\n",
       "      <th></th>\n",
       "      <th>path</th>\n",
       "      <th>file_name</th>\n",
       "      <th>status</th>\n",
       "    </tr>\n",
       "  </thead>\n",
       "  <tbody>\n",
       "    <tr>\n",
       "      <th>5087</th>\n",
       "      <td>D:\\Mata Kuliah\\Tesis\\Data\\KDD_paper_data\\healt...</td>\n",
       "      <td>audio_file_cough.wav</td>\n",
       "      <td>pos</td>\n",
       "    </tr>\n",
       "    <tr>\n",
       "      <th>5088</th>\n",
       "      <td>D:\\Mata Kuliah\\Tesis\\Data\\KDD_paper_data\\healt...</td>\n",
       "      <td>audio_file_cough.wav</td>\n",
       "      <td>pos</td>\n",
       "    </tr>\n",
       "    <tr>\n",
       "      <th>5089</th>\n",
       "      <td>D:\\Mata Kuliah\\Tesis\\Data\\KDD_paper_data\\healt...</td>\n",
       "      <td>audio_file_cough.wav</td>\n",
       "      <td>pos</td>\n",
       "    </tr>\n",
       "    <tr>\n",
       "      <th>5090</th>\n",
       "      <td>D:\\Mata Kuliah\\Tesis\\Data\\KDD_paper_data\\healt...</td>\n",
       "      <td>audio_file_cough.wav</td>\n",
       "      <td>pos</td>\n",
       "    </tr>\n",
       "    <tr>\n",
       "      <th>5091</th>\n",
       "      <td>D:\\Mata Kuliah\\Tesis\\Data\\KDD_paper_data\\healt...</td>\n",
       "      <td>audio_file_cough.wav</td>\n",
       "      <td>pos</td>\n",
       "    </tr>\n",
       "  </tbody>\n",
       "</table>\n",
       "</div>"
      ],
      "text/plain": [
       "                                                   path             file_name  \\\n",
       "5087  D:\\Mata Kuliah\\Tesis\\Data\\KDD_paper_data\\healt...  audio_file_cough.wav   \n",
       "5088  D:\\Mata Kuliah\\Tesis\\Data\\KDD_paper_data\\healt...  audio_file_cough.wav   \n",
       "5089  D:\\Mata Kuliah\\Tesis\\Data\\KDD_paper_data\\healt...  audio_file_cough.wav   \n",
       "5090  D:\\Mata Kuliah\\Tesis\\Data\\KDD_paper_data\\healt...  audio_file_cough.wav   \n",
       "5091  D:\\Mata Kuliah\\Tesis\\Data\\KDD_paper_data\\healt...  audio_file_cough.wav   \n",
       "\n",
       "     status  \n",
       "5087    pos  \n",
       "5088    pos  \n",
       "5089    pos  \n",
       "5090    pos  \n",
       "5091    pos  "
      ]
     },
     "execution_count": 76,
     "metadata": {},
     "output_type": "execute_result"
    }
   ],
   "source": [
    "cough_df.tail()"
   ]
  },
  {
   "cell_type": "code",
   "execution_count": 77,
   "id": "859f9d94",
   "metadata": {},
   "outputs": [],
   "source": [
    "cough_df.to_csv('cough.csv', index=False)"
   ]
  },
  {
   "cell_type": "markdown",
   "id": "88e438f9",
   "metadata": {},
   "source": [
    "### Speech "
   ]
  },
  {
   "cell_type": "code",
   "execution_count": 78,
   "id": "eb10e9fb",
   "metadata": {},
   "outputs": [],
   "source": [
    "speech_df.to_csv('speech.csv', index=False)"
   ]
  },
  {
   "cell_type": "markdown",
   "id": "f4d5427f",
   "metadata": {},
   "source": [
    "### Real Cough"
   ]
  },
  {
   "cell_type": "code",
   "execution_count": 84,
   "id": "bdca46ba",
   "metadata": {},
   "outputs": [],
   "source": [
    "list_realcough_df = [compare1_df, compare2_df, kdd_pos_android_df, kdd_pos_web_df, kdd_neg_android_df, kdd_neg_web_df]\n",
    "real_cough_df = pd.concat(list_realcough_df, ignore_index=True)"
   ]
  },
  {
   "cell_type": "code",
   "execution_count": 85,
   "id": "34b0ac0f",
   "metadata": {},
   "outputs": [
    {
     "data": {
      "text/html": [
       "<div>\n",
       "<style scoped>\n",
       "    .dataframe tbody tr th:only-of-type {\n",
       "        vertical-align: middle;\n",
       "    }\n",
       "\n",
       "    .dataframe tbody tr th {\n",
       "        vertical-align: top;\n",
       "    }\n",
       "\n",
       "    .dataframe thead th {\n",
       "        text-align: right;\n",
       "    }\n",
       "</style>\n",
       "<table border=\"1\" class=\"dataframe\">\n",
       "  <thead>\n",
       "    <tr style=\"text-align: right;\">\n",
       "      <th></th>\n",
       "      <th>path</th>\n",
       "      <th>file_name</th>\n",
       "      <th>status</th>\n",
       "    </tr>\n",
       "  </thead>\n",
       "  <tbody>\n",
       "    <tr>\n",
       "      <th>1756</th>\n",
       "      <td>D:\\Mata Kuliah\\Tesis\\Data\\KDD_paper_data\\healt...</td>\n",
       "      <td>audio_file_cough.wav</td>\n",
       "      <td>pos</td>\n",
       "    </tr>\n",
       "    <tr>\n",
       "      <th>1757</th>\n",
       "      <td>D:\\Mata Kuliah\\Tesis\\Data\\KDD_paper_data\\healt...</td>\n",
       "      <td>audio_file_cough.wav</td>\n",
       "      <td>pos</td>\n",
       "    </tr>\n",
       "    <tr>\n",
       "      <th>1758</th>\n",
       "      <td>D:\\Mata Kuliah\\Tesis\\Data\\KDD_paper_data\\healt...</td>\n",
       "      <td>audio_file_cough.wav</td>\n",
       "      <td>pos</td>\n",
       "    </tr>\n",
       "    <tr>\n",
       "      <th>1759</th>\n",
       "      <td>D:\\Mata Kuliah\\Tesis\\Data\\KDD_paper_data\\healt...</td>\n",
       "      <td>audio_file_cough.wav</td>\n",
       "      <td>pos</td>\n",
       "    </tr>\n",
       "    <tr>\n",
       "      <th>1760</th>\n",
       "      <td>D:\\Mata Kuliah\\Tesis\\Data\\KDD_paper_data\\healt...</td>\n",
       "      <td>audio_file_cough.wav</td>\n",
       "      <td>pos</td>\n",
       "    </tr>\n",
       "  </tbody>\n",
       "</table>\n",
       "</div>"
      ],
      "text/plain": [
       "                                                   path             file_name  \\\n",
       "1756  D:\\Mata Kuliah\\Tesis\\Data\\KDD_paper_data\\healt...  audio_file_cough.wav   \n",
       "1757  D:\\Mata Kuliah\\Tesis\\Data\\KDD_paper_data\\healt...  audio_file_cough.wav   \n",
       "1758  D:\\Mata Kuliah\\Tesis\\Data\\KDD_paper_data\\healt...  audio_file_cough.wav   \n",
       "1759  D:\\Mata Kuliah\\Tesis\\Data\\KDD_paper_data\\healt...  audio_file_cough.wav   \n",
       "1760  D:\\Mata Kuliah\\Tesis\\Data\\KDD_paper_data\\healt...  audio_file_cough.wav   \n",
       "\n",
       "     status  \n",
       "1756    pos  \n",
       "1757    pos  \n",
       "1758    pos  \n",
       "1759    pos  \n",
       "1760    pos  "
      ]
     },
     "execution_count": 85,
     "metadata": {},
     "output_type": "execute_result"
    }
   ],
   "source": [
    "real_cough_df.tail()"
   ]
  },
  {
   "cell_type": "code",
   "execution_count": 86,
   "id": "72093fb8",
   "metadata": {},
   "outputs": [],
   "source": [
    "real_cough_df.to_csv('realcough.csv', index=False)"
   ]
  },
  {
   "cell_type": "code",
   "execution_count": null,
   "id": "8181b65a",
   "metadata": {},
   "outputs": [],
   "source": []
  }
 ],
 "metadata": {
  "kernelspec": {
   "display_name": "Python 3 (ipykernel)",
   "language": "python",
   "name": "python3"
  },
  "language_info": {
   "codemirror_mode": {
    "name": "ipython",
    "version": 3
   },
   "file_extension": ".py",
   "mimetype": "text/x-python",
   "name": "python",
   "nbconvert_exporter": "python",
   "pygments_lexer": "ipython3",
   "version": "3.8.8"
  }
 },
 "nbformat": 4,
 "nbformat_minor": 5
}
