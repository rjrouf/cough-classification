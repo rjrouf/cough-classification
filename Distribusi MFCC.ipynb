{
 "cells": [
  {
   "cell_type": "code",
   "execution_count": 2,
   "id": "65765922",
   "metadata": {},
   "outputs": [],
   "source": [
    "import numpy as np\n",
    "import pandas as pd\n",
    "import matplotlib.pyplot as plt\n",
    "import seaborn as sns\n",
    "from fitter import Fitter, get_common_distributions, get_distributions"
   ]
  },
  {
   "cell_type": "code",
   "execution_count": 30,
   "id": "ef03cd6f",
   "metadata": {},
   "outputs": [],
   "source": [
    "X = np.load(\"X_mfcc_compare1.npy\")\n",
    "y = np.load(\"y_mfcc_compare1.npy\")"
   ]
  },
  {
   "cell_type": "code",
   "execution_count": 33,
   "id": "2d46c188",
   "metadata": {},
   "outputs": [
    {
     "data": {
      "text/plain": [
       "array([-1131.3708,     0.    ,     0.    ,     0.    ,     0.    ,\n",
       "           0.    ,     0.    ,     0.    ,     0.    ,     0.    ,\n",
       "           0.    ,     0.    ,     0.    ,     0.    ,     0.    ,\n",
       "           0.    ,     0.    ,     0.    ,     0.    ,     0.    ,\n",
       "           0.    ,     0.    ,     0.    ,     0.    ,     0.    ,\n",
       "           0.    ,     0.    ,     0.    ,     0.    ,     0.    ,\n",
       "           0.    ,     0.    ,     0.    ,     0.    ,     0.    ,\n",
       "           0.    ,     0.    ,     0.    ,     0.    ,     0.    ,\n",
       "       -1131.3708,     0.    ,     0.    ,     0.    ,     0.    ,\n",
       "           0.    ,     0.    ,     0.    ,     0.    ,     0.    ,\n",
       "           0.    ,     0.    ,     0.    ,     0.    ,     0.    ,\n",
       "           0.    ,     0.    ,     0.    ,     0.    ,     0.    ,\n",
       "           0.    ,     0.    ,     0.    ,     0.    ,     0.    ,\n",
       "           0.    ,     0.    ,     0.    ,     0.    ,     0.    ,\n",
       "           0.    ,     0.    ,     0.    ,     0.    ,     0.    ,\n",
       "           0.    ,     0.    ,     0.    ,     0.    ,     0.    ,\n",
       "       -1131.3708,     0.    ,     0.    ,     0.    ,     0.    ,\n",
       "           0.    ,     0.    ,     0.    ,     0.    ,     0.    ,\n",
       "           0.    ,     0.    ,     0.    ,     0.    ,     0.    ,\n",
       "           0.    ,     0.    ,     0.    ,     0.    ,     0.    ,\n",
       "           0.    ,     0.    ,     0.    ,     0.    ,     0.    ,\n",
       "           0.    ,     0.    ,     0.    ,     0.    ,     0.    ,\n",
       "           0.    ,     0.    ,     0.    ,     0.    ,     0.    ,\n",
       "           0.    ,     0.    ,     0.    ,     0.    ,     0.    ,\n",
       "       -1131.3708,     0.    ,     0.    ,     0.    ,     0.    ,\n",
       "           0.    ,     0.    ,     0.    ,     0.    ,     0.    ,\n",
       "           0.    ,     0.    ,     0.    ,     0.    ,     0.    ,\n",
       "           0.    ,     0.    ,     0.    ,     0.    ,     0.    ,\n",
       "           0.    ,     0.    ,     0.    ,     0.    ,     0.    ,\n",
       "           0.    ,     0.    ,     0.    ,     0.    ,     0.    ,\n",
       "           0.    ,     0.    ,     0.    ,     0.    ,     0.    ,\n",
       "           0.    ,     0.    ,     0.    ,     0.    ,     0.    ,\n",
       "       -1131.3708,     0.    ,     0.    ,     0.    ,     0.    ,\n",
       "           0.    ,     0.    ,     0.    ,     0.    ,     0.    ,\n",
       "           0.    ,     0.    ,     0.    ,     0.    ,     0.    ,\n",
       "           0.    ,     0.    ,     0.    ,     0.    ,     0.    ,\n",
       "           0.    ,     0.    ,     0.    ,     0.    ,     0.    ,\n",
       "           0.    ,     0.    ,     0.    ,     0.    ,     0.    ,\n",
       "           0.    ,     0.    ,     0.    ,     0.    ,     0.    ,\n",
       "           0.    ,     0.    ,     0.    ,     0.    ,     0.    ,\n",
       "       -1131.3708,     0.    ,     0.    ,     0.    ,     0.    ,\n",
       "           0.    ,     0.    ,     0.    ,     0.    ,     0.    ,\n",
       "           0.    ,     0.    ,     0.    ,     0.    ,     0.    ,\n",
       "           0.    ,     0.    ,     0.    ,     0.    ,     0.    ,\n",
       "           0.    ,     0.    ,     0.    ,     0.    ,     0.    ,\n",
       "           0.    ,     0.    ,     0.    ,     0.    ,     0.    ,\n",
       "           0.    ,     0.    ,     0.    ,     0.    ,     0.    ,\n",
       "           0.    ,     0.    ,     0.    ,     0.    ,     0.    ,\n",
       "       -1131.3708,     0.    ,     0.    ,     0.    ,     0.    ,\n",
       "           0.    ,     0.    ,     0.    ,     0.    ,     0.    ,\n",
       "           0.    ,     0.    ,     0.    ,     0.    ,     0.    ,\n",
       "           0.    ,     0.    ,     0.    ,     0.    ,     0.    ,\n",
       "           0.    ,     0.    ,     0.    ,     0.    ,     0.    ,\n",
       "           0.    ,     0.    ,     0.    ,     0.    ,     0.    ,\n",
       "           0.    ,     0.    ,     0.    ,     0.    ,     0.    ,\n",
       "           0.    ,     0.    ,     0.    ,     0.    ,     0.    ,\n",
       "       -1131.3708,     0.    ,     0.    ,     0.    ,     0.    ,\n",
       "           0.    ,     0.    ,     0.    ,     0.    ,     0.    ,\n",
       "           0.    ,     0.    ,     0.    ,     0.    ,     0.    ,\n",
       "           0.    ,     0.    ,     0.    ,     0.    ,     0.    ,\n",
       "           0.    ,     0.    ,     0.    ,     0.    ,     0.    ,\n",
       "           0.    ,     0.    ,     0.    ,     0.    ,     0.    ,\n",
       "           0.    ,     0.    ,     0.    ,     0.    ,     0.    ,\n",
       "           0.    ,     0.    ,     0.    ,     0.    ,     0.    ,\n",
       "       -1131.3708,     0.    ,     0.    ,     0.    ,     0.    ,\n",
       "           0.    ,     0.    ,     0.    ,     0.    ,     0.    ,\n",
       "           0.    ,     0.    ,     0.    ,     0.    ,     0.    ,\n",
       "           0.    ,     0.    ,     0.    ,     0.    ,     0.    ,\n",
       "           0.    ,     0.    ,     0.    ,     0.    ,     0.    ,\n",
       "           0.    ,     0.    ,     0.    ,     0.    ,     0.    ,\n",
       "           0.    ,     0.    ,     0.    ,     0.    ,     0.    ,\n",
       "           0.    ,     0.    ,     0.    ,     0.    ,     0.    ,\n",
       "       -1131.3708,     0.    ,     0.    ,     0.    ,     0.    ,\n",
       "           0.    ,     0.    ,     0.    ,     0.    ,     0.    ,\n",
       "           0.    ,     0.    ,     0.    ,     0.    ,     0.    ,\n",
       "           0.    ,     0.    ,     0.    ,     0.    ,     0.    ,\n",
       "           0.    ,     0.    ,     0.    ,     0.    ,     0.    ,\n",
       "           0.    ,     0.    ,     0.    ,     0.    ,     0.    ,\n",
       "           0.    ,     0.    ,     0.    ,     0.    ,     0.    ,\n",
       "           0.    ,     0.    ,     0.    ,     0.    ,     0.    ,\n",
       "       -1131.3708,     0.    ,     0.    ,     0.    ,     0.    ,\n",
       "           0.    ,     0.    ,     0.    ,     0.    ,     0.    ,\n",
       "           0.    ,     0.    ,     0.    ,     0.    ,     0.    ,\n",
       "           0.    ,     0.    ,     0.    ,     0.    ,     0.    ,\n",
       "           0.    ,     0.    ,     0.    ,     0.    ,     0.    ,\n",
       "           0.    ,     0.    ,     0.    ,     0.    ,     0.    ,\n",
       "           0.    ,     0.    ,     0.    ,     0.    ,     0.    ,\n",
       "           0.    ,     0.    ,     0.    ,     0.    ,     0.    ,\n",
       "       -1131.3708,     0.    ,     0.    ,     0.    ,     0.    ,\n",
       "           0.    ,     0.    ,     0.    ,     0.    ,     0.    ,\n",
       "           0.    ,     0.    ,     0.    ,     0.    ,     0.    ,\n",
       "           0.    ,     0.    ,     0.    ,     0.    ,     0.    ,\n",
       "           0.    ,     0.    ,     0.    ,     0.    ,     0.    ,\n",
       "           0.    ,     0.    ,     0.    ,     0.    ,     0.    ,\n",
       "           0.    ,     0.    ,     0.    ,     0.    ,     0.    ,\n",
       "           0.    ,     0.    ,     0.    ,     0.    ,     0.    ],\n",
       "      dtype=float32)"
      ]
     },
     "execution_count": 33,
     "metadata": {},
     "output_type": "execute_result"
    }
   ],
   "source": [
    "X[0]"
   ]
  },
  {
   "cell_type": "code",
   "execution_count": 22,
   "id": "cb46ddde",
   "metadata": {},
   "outputs": [],
   "source": [
    "X_pos = []\n",
    "X_neg = []\n",
    "for idx, _y in np.ndenumerate(y):\n",
    "    if _y == 0:\n",
    "        X_neg.append(X[idx])\n",
    "    elif _y == 1:\n",
    "        X_pos.append(X[idx])"
   ]
  },
  {
   "cell_type": "code",
   "execution_count": 25,
   "id": "24fe9e03",
   "metadata": {},
   "outputs": [],
   "source": [
    "X_pos_flat = np.array(X_pos).flatten()\n",
    "X_neg_flat = np.array(X_neg).flatten()"
   ]
  },
  {
   "cell_type": "code",
   "execution_count": 5,
   "id": "f6dc4e94",
   "metadata": {},
   "outputs": [
    {
     "data": {
      "text/plain": [
       "[<matplotlib.lines.Line2D at 0x151603c5280>]"
      ]
     },
     "execution_count": 5,
     "metadata": {},
     "output_type": "execute_result"
    },
    {
     "data": {
      "image/png": "[encoded data removed]",
      "text/plain": [
       "<Figure size 720x720 with 1 Axes>"
      ]
     },
     "metadata": {
      "needs_background": "light"
     },
     "output_type": "display_data"
    }
   ],
   "source": [
    "fig = plt.figure(figsize=(10,10))\n",
    "ax = plt.subplot()\n",
    "\n",
    "unique, counts = np.unique(X_neg, return_counts=True)\n",
    "ax.plot(unique, counts)\n"
   ]
  },
  {
   "cell_type": "code",
   "execution_count": 6,
   "id": "315bd32b",
   "metadata": {},
   "outputs": [
    {
     "data": {
      "text/plain": [
       "[<matplotlib.lines.Line2D at 0x1516115f490>]"
      ]
     },
     "execution_count": 6,
     "metadata": {},
     "output_type": "execute_result"
    },
    {
     "data": {
      "image/png": "[encoded data removed]",
      "text/plain": [
       "<Figure size 720x720 with 1 Axes>"
      ]
     },
     "metadata": {
      "needs_background": "light"
     },
     "output_type": "display_data"
    }
   ],
   "source": [
    "fig = plt.figure(figsize=(10,10))\n",
    "ax = plt.subplot()\n",
    "\n",
    "unique, counts = np.unique(X_pos, return_counts=True)\n",
    "ax.plot(unique, counts)"
   ]
  },
  {
   "cell_type": "code",
   "execution_count": 7,
   "id": "fbfc9cc8",
   "metadata": {},
   "outputs": [
    {
     "data": {
      "text/plain": [
       "<seaborn.axisgrid.FacetGrid at 0x15161144880>"
      ]
     },
     "execution_count": 7,
     "metadata": {},
     "output_type": "execute_result"
    },
    {
     "data": {
      "image/png": "[encoded data removed]",
      "text/plain": [
       "<Figure size 540x360 with 1 Axes>"
      ]
     },
     "metadata": {
      "needs_background": "light"
     },
     "output_type": "display_data"
    }
   ],
   "source": [
    "sns.displot(X_neg, bins = 100, aspect = 1.5)"
   ]
  },
  {
   "cell_type": "code",
   "execution_count": 23,
   "id": "be2b6a36",
   "metadata": {},
   "outputs": [
    {
     "data": {
      "text/plain": [
       "(array([  1.,   0.,   5.,   2.,   3.,   0.,   1.,   0.,   0.,   0.,   0.,\n",
       "          0.,   0.,   0.,   0.,   0.,   0.,   0.,   0.,   0.,   0.,   0.,\n",
       "          0.,   0.,   0.,   0.,   0.,   0.,   0.,   0.,   0.,   0.,   0.,\n",
       "          0.,   0.,   0.,   0.,   0.,   0.,   0.,   0.,   0.,   0.,   0.,\n",
       "          0.,   0.,   0.,   0.,   0.,   0.,   0.,   0.,   0.,   0.,   0.,\n",
       "          0.,   0.,   0.,   0.,   0.,   0.,   0.,   0.,   0.,   0.,   0.,\n",
       "          0.,   0.,   0.,   0.,   0.,   0.,   0.,   0.,   0.,   1.,   5.,\n",
       "          6.,  16.,  31., 115., 193.,  82.,   7.,   0.,   0.,   0.,   0.,\n",
       "          0.,   0.,   0.,   0.,   0.,   0.,   0.,   0.,   0.,   0.,   3.,\n",
       "          9.]),\n",
       " array([-621.50287  , -613.90265  , -606.3024   , -598.70215  ,\n",
       "        -591.1019   , -583.5017   , -575.9015   , -568.3013   ,\n",
       "        -560.701    , -553.10077  , -545.50055  , -537.9003   ,\n",
       "        -530.30005  , -522.6998   , -515.0996   , -507.4994   ,\n",
       "        -499.89914  , -492.29892  , -484.69867  , -477.09845  ,\n",
       "        -469.49823  , -461.89798  , -454.29776  , -446.6975   ,\n",
       "        -439.0973   , -431.49707  , -423.89682  , -416.2966   ,\n",
       "        -408.69635  , -401.09613  , -393.49588  , -385.89566  ,\n",
       "        -378.29544  , -370.6952   , -363.09497  , -355.49472  ,\n",
       "        -347.8945   , -340.29425  , -332.69403  , -325.0938   ,\n",
       "        -317.49356  , -309.89334  , -302.2931   , -294.69287  ,\n",
       "        -287.09265  , -279.4924   , -271.89218  , -264.29193  ,\n",
       "        -256.6917   , -249.09148  , -241.49124  , -233.891    ,\n",
       "        -226.29077  , -218.69054  , -211.09032  , -203.49008  ,\n",
       "        -195.88985  , -188.28961  , -180.68938  , -173.08914  ,\n",
       "        -165.48892  , -157.88869  , -150.28845  , -142.68822  ,\n",
       "        -135.08798  , -127.487755 , -119.88752  , -112.287285 ,\n",
       "        -104.68706  ,  -97.08682  ,  -89.48659  ,  -81.88636  ,\n",
       "         -74.286125 ,  -66.68589  ,  -59.08566  ,  -51.485428 ,\n",
       "         -43.885197 ,  -36.28496  ,  -28.68473  ,  -21.084497 ,\n",
       "         -13.484265 ,   -5.8840327,    1.7162   ,    9.316433 ,\n",
       "          16.916664 ,   24.516897 ,   32.11713  ,   39.71736  ,\n",
       "          47.317596 ,   54.917828 ,   62.51806  ,   70.11829  ,\n",
       "          77.71853  ,   85.318756 ,   92.91899  ,  100.519226 ,\n",
       "         108.11945  ,  115.71969  ,  123.31992  ,  130.92015  ,\n",
       "         138.52039  ], dtype=float32),\n",
       " <BarContainer object of 100 artists>)"
      ]
     },
     "execution_count": 23,
     "metadata": {},
     "output_type": "execute_result"
    },
    {
     "data": {
      "image/png": "[encoded data removed]",
      "text/plain": [
       "<Figure size 720x720 with 1 Axes>"
      ]
     },
     "metadata": {
      "needs_background": "light"
     },
     "output_type": "display_data"
    }
   ],
   "source": [
    "fig = plt.figure(figsize=(10,10))\n",
    "ax = plt.subplot()\n",
    "ax.hist(X_neg[0], bins=100)"
   ]
  },
  {
   "cell_type": "code",
   "execution_count": 27,
   "id": "00460af5",
   "metadata": {},
   "outputs": [
    {
     "data": {
      "text/html": [
       "<div>\n",
       "<style scoped>\n",
       "    .dataframe tbody tr th:only-of-type {\n",
       "        vertical-align: middle;\n",
       "    }\n",
       "\n",
       "    .dataframe tbody tr th {\n",
       "        vertical-align: top;\n",
       "    }\n",
       "\n",
       "    .dataframe thead th {\n",
       "        text-align: right;\n",
       "    }\n",
       "</style>\n",
       "<table border=\"1\" class=\"dataframe\">\n",
       "  <thead>\n",
       "    <tr style=\"text-align: right;\">\n",
       "      <th></th>\n",
       "      <th>sumsquare_error</th>\n",
       "      <th>aic</th>\n",
       "      <th>bic</th>\n",
       "      <th>kl_div</th>\n",
       "    </tr>\n",
       "  </thead>\n",
       "  <tbody>\n",
       "    <tr>\n",
       "      <th>cauchy</th>\n",
       "      <td>0.000583</td>\n",
       "      <td>2352.908015</td>\n",
       "      <td>-2.720191e+07</td>\n",
       "      <td>0.079217</td>\n",
       "    </tr>\n",
       "    <tr>\n",
       "      <th>rayleigh</th>\n",
       "      <td>0.001528</td>\n",
       "      <td>inf</td>\n",
       "      <td>-2.598205e+07</td>\n",
       "      <td>2.063915</td>\n",
       "    </tr>\n",
       "    <tr>\n",
       "      <th>norm</th>\n",
       "      <td>0.001680</td>\n",
       "      <td>3046.227292</td>\n",
       "      <td>-2.586184e+07</td>\n",
       "      <td>2.986590</td>\n",
       "    </tr>\n",
       "    <tr>\n",
       "      <th>gamma</th>\n",
       "      <td>0.001788</td>\n",
       "      <td>2107.105036</td>\n",
       "      <td>-2.578280e+07</td>\n",
       "      <td>3.621662</td>\n",
       "    </tr>\n",
       "    <tr>\n",
       "      <th>powerlaw</th>\n",
       "      <td>0.001857</td>\n",
       "      <td>1650.786742</td>\n",
       "      <td>-2.573493e+07</td>\n",
       "      <td>4.147259</td>\n",
       "    </tr>\n",
       "  </tbody>\n",
       "</table>\n",
       "</div>"
      ],
      "text/plain": [
       "          sumsquare_error          aic           bic    kl_div\n",
       "cauchy           0.000583  2352.908015 -2.720191e+07  0.079217\n",
       "rayleigh         0.001528          inf -2.598205e+07  2.063915\n",
       "norm             0.001680  3046.227292 -2.586184e+07  2.986590\n",
       "gamma            0.001788  2107.105036 -2.578280e+07  3.621662\n",
       "powerlaw         0.001857  1650.786742 -2.573493e+07  4.147259"
      ]
     },
     "execution_count": 27,
     "metadata": {},
     "output_type": "execute_result"
    },
    {
     "data": {
      "image/png": "[encoded data removed]",
      "text/plain": [
       "<Figure size 432x288 with 1 Axes>"
      ]
     },
     "metadata": {
      "needs_background": "light"
     },
     "output_type": "display_data"
    }
   ],
   "source": [
    "# sns.displot(X_neg[0], bins = 100, aspect = 1.5)\n",
    "f = Fitter(X_neg_flat,\n",
    "           distributions=[\"cauchy\",\n",
    "        \"chi2\",\n",
    "        \"expon\",\n",
    "        \"exponpow\",\n",
    "        \"gamma\",\n",
    "        \"lognorm\",\n",
    "        \"norm\",\n",
    "        \"powerlaw\",\n",
    "        \"rayleigh\",\n",
    "        \"uniform\",\n",
    "    ],\n",
    "          timeout=1000)\n",
    "f.fit()\n",
    "f.summary()"
   ]
  },
  {
   "cell_type": "code",
   "execution_count": 28,
   "id": "f37a1c51",
   "metadata": {},
   "outputs": [
    {
     "data": {
      "text/plain": [
       "{'cauchy': {'loc': -0.3022382437444856, 'scale': 2.5132747888932014}}"
      ]
     },
     "execution_count": 28,
     "metadata": {},
     "output_type": "execute_result"
    }
   ],
   "source": [
    "f.get_best(method = 'sumsquare_error')"
   ]
  },
  {
   "cell_type": "code",
   "execution_count": 29,
   "id": "9a9d0378",
   "metadata": {},
   "outputs": [
    {
     "data": {
      "text/html": [
       "<div>\n",
       "<style scoped>\n",
       "    .dataframe tbody tr th:only-of-type {\n",
       "        vertical-align: middle;\n",
       "    }\n",
       "\n",
       "    .dataframe tbody tr th {\n",
       "        vertical-align: top;\n",
       "    }\n",
       "\n",
       "    .dataframe thead th {\n",
       "        text-align: right;\n",
       "    }\n",
       "</style>\n",
       "<table border=\"1\" class=\"dataframe\">\n",
       "  <thead>\n",
       "    <tr style=\"text-align: right;\">\n",
       "      <th></th>\n",
       "      <th>sumsquare_error</th>\n",
       "      <th>aic</th>\n",
       "      <th>bic</th>\n",
       "      <th>kl_div</th>\n",
       "    </tr>\n",
       "  </thead>\n",
       "  <tbody>\n",
       "    <tr>\n",
       "      <th>cauchy</th>\n",
       "      <td>0.000185</td>\n",
       "      <td>2269.697990</td>\n",
       "      <td>-7.024785e+06</td>\n",
       "      <td>0.051357</td>\n",
       "    </tr>\n",
       "    <tr>\n",
       "      <th>rayleigh</th>\n",
       "      <td>0.001679</td>\n",
       "      <td>inf</td>\n",
       "      <td>-6.296898e+06</td>\n",
       "      <td>1.637473</td>\n",
       "    </tr>\n",
       "    <tr>\n",
       "      <th>norm</th>\n",
       "      <td>0.001846</td>\n",
       "      <td>3546.439678</td>\n",
       "      <td>-6.265653e+06</td>\n",
       "      <td>2.375858</td>\n",
       "    </tr>\n",
       "    <tr>\n",
       "      <th>gamma</th>\n",
       "      <td>0.002006</td>\n",
       "      <td>1841.336332</td>\n",
       "      <td>-6.238322e+06</td>\n",
       "      <td>3.027670</td>\n",
       "    </tr>\n",
       "    <tr>\n",
       "      <th>powerlaw</th>\n",
       "      <td>0.002054</td>\n",
       "      <td>1701.298753</td>\n",
       "      <td>-6.230492e+06</td>\n",
       "      <td>3.351459</td>\n",
       "    </tr>\n",
       "  </tbody>\n",
       "</table>\n",
       "</div>"
      ],
      "text/plain": [
       "          sumsquare_error          aic           bic    kl_div\n",
       "cauchy           0.000185  2269.697990 -7.024785e+06  0.051357\n",
       "rayleigh         0.001679          inf -6.296898e+06  1.637473\n",
       "norm             0.001846  3546.439678 -6.265653e+06  2.375858\n",
       "gamma            0.002006  1841.336332 -6.238322e+06  3.027670\n",
       "powerlaw         0.002054  1701.298753 -6.230492e+06  3.351459"
      ]
     },
     "execution_count": 29,
     "metadata": {},
     "output_type": "execute_result"
    },
    {
     "data": {
      "image/png": "[encoded data removed]",
      "text/plain": [
       "<Figure size 432x288 with 1 Axes>"
      ]
     },
     "metadata": {
      "needs_background": "light"
     },
     "output_type": "display_data"
    }
   ],
   "source": [
    "# sns.displot(X_pos, bins = 100, aspect = 1.5)\n",
    "f = Fitter(X_pos_flat,\n",
    "           distributions=[\"cauchy\",\n",
    "        \"chi2\",\n",
    "        \"expon\",\n",
    "        \"exponpow\",\n",
    "        \"gamma\",\n",
    "        \"lognorm\",\n",
    "        \"norm\",\n",
    "        \"powerlaw\",\n",
    "        \"rayleigh\",\n",
    "        \"uniform\",\n",
    "    ],\n",
    "          timeout=1000)\n",
    "f.fit()\n",
    "f.summary()"
   ]
  },
  {
   "cell_type": "code",
   "execution_count": 22,
   "id": "8eab5995",
   "metadata": {},
   "outputs": [
    {
     "data": {
      "text/plain": [
       "{'rayleigh': {'loc': -1.0227674653420338, 'scale': 0.9508236687169301}}"
      ]
     },
     "execution_count": 22,
     "metadata": {},
     "output_type": "execute_result"
    }
   ],
   "source": [
    "f.get_best(method = 'sumsquare_error')"
   ]
  },
  {
   "cell_type": "code",
   "execution_count": null,
   "id": "9bf80ab4",
   "metadata": {},
   "outputs": [],
   "source": []
  }
 ],
 "metadata": {
  "kernelspec": {
   "display_name": "Python 3 (ipykernel)",
   "language": "python",
   "name": "python3"
  },
  "language_info": {
   "codemirror_mode": {
    "name": "ipython",
    "version": 3
   },
   "file_extension": ".py",
   "mimetype": "text/x-python",
   "name": "python",
   "nbconvert_exporter": "python",
   "pygments_lexer": "ipython3",
   "version": "3.8.8"
  }
 },
 "nbformat": 4,
 "nbformat_minor": 5
}
