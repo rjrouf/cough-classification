{
 "cells": [
  {
   "cell_type": "code",
   "execution_count": 2,
   "id": "b15c736b",
   "metadata": {},
   "outputs": [],
   "source": [
    "import pandas as pd\n",
    "import matplotlib.pyplot as plt\n",
    "import numpy as np\n",
    "import seaborn as sns\n",
    "from fitter import Fitter, get_common_distributions, get_distributions"
   ]
  },
  {
   "cell_type": "code",
   "execution_count": 3,
   "id": "63b42206",
   "metadata": {},
   "outputs": [],
   "source": [
    "neg = pd.read_csv('D:/Mata Kuliah/Tesis/neg_f3.csv', header=None)\n",
    "pos = pd.read_csv('D:/Mata Kuliah/Tesis/pos_f3.csv', header=None)"
   ]
  },
  {
   "cell_type": "code",
   "execution_count": 4,
   "id": "d680c2df",
   "metadata": {},
   "outputs": [
    {
     "data": {
      "text/html": [
       "<div>\n",
       "<style scoped>\n",
       "    .dataframe tbody tr th:only-of-type {\n",
       "        vertical-align: middle;\n",
       "    }\n",
       "\n",
       "    .dataframe tbody tr th {\n",
       "        vertical-align: top;\n",
       "    }\n",
       "\n",
       "    .dataframe thead th {\n",
       "        text-align: right;\n",
       "    }\n",
       "</style>\n",
       "<table border=\"1\" class=\"dataframe\">\n",
       "  <thead>\n",
       "    <tr style=\"text-align: right;\">\n",
       "      <th></th>\n",
       "      <th>0</th>\n",
       "      <th>1</th>\n",
       "      <th>2</th>\n",
       "      <th>3</th>\n",
       "      <th>4</th>\n",
       "      <th>5</th>\n",
       "      <th>6</th>\n",
       "      <th>7</th>\n",
       "      <th>8</th>\n",
       "      <th>9</th>\n",
       "      <th>...</th>\n",
       "      <th>39990</th>\n",
       "      <th>39991</th>\n",
       "      <th>39992</th>\n",
       "      <th>39993</th>\n",
       "      <th>39994</th>\n",
       "      <th>39995</th>\n",
       "      <th>39996</th>\n",
       "      <th>39997</th>\n",
       "      <th>39998</th>\n",
       "      <th>39999</th>\n",
       "    </tr>\n",
       "  </thead>\n",
       "  <tbody>\n",
       "    <tr>\n",
       "      <th>0</th>\n",
       "      <td>0</td>\n",
       "      <td>0</td>\n",
       "      <td>0</td>\n",
       "      <td>0</td>\n",
       "      <td>0</td>\n",
       "      <td>0</td>\n",
       "      <td>0</td>\n",
       "      <td>0</td>\n",
       "      <td>0</td>\n",
       "      <td>0</td>\n",
       "      <td>...</td>\n",
       "      <td>-139.1</td>\n",
       "      <td>-138.9</td>\n",
       "      <td>-138.7</td>\n",
       "      <td>-138.5</td>\n",
       "      <td>-138.3</td>\n",
       "      <td>-138.1</td>\n",
       "      <td>-137.9</td>\n",
       "      <td>-137.7</td>\n",
       "      <td>-137.5</td>\n",
       "      <td>-137.3</td>\n",
       "    </tr>\n",
       "    <tr>\n",
       "      <th>1</th>\n",
       "      <td>0</td>\n",
       "      <td>0</td>\n",
       "      <td>0</td>\n",
       "      <td>0</td>\n",
       "      <td>0</td>\n",
       "      <td>0</td>\n",
       "      <td>0</td>\n",
       "      <td>0</td>\n",
       "      <td>0</td>\n",
       "      <td>0</td>\n",
       "      <td>...</td>\n",
       "      <td>-38.2</td>\n",
       "      <td>-38.2</td>\n",
       "      <td>-38.2</td>\n",
       "      <td>-38.2</td>\n",
       "      <td>-38.2</td>\n",
       "      <td>-38.2</td>\n",
       "      <td>-38.2</td>\n",
       "      <td>-38.2</td>\n",
       "      <td>-38.2</td>\n",
       "      <td>-38.2</td>\n",
       "    </tr>\n",
       "    <tr>\n",
       "      <th>2</th>\n",
       "      <td>0</td>\n",
       "      <td>0</td>\n",
       "      <td>0</td>\n",
       "      <td>0</td>\n",
       "      <td>0</td>\n",
       "      <td>0</td>\n",
       "      <td>0</td>\n",
       "      <td>0</td>\n",
       "      <td>0</td>\n",
       "      <td>0</td>\n",
       "      <td>...</td>\n",
       "      <td>-141.2</td>\n",
       "      <td>-141.2</td>\n",
       "      <td>-141.2</td>\n",
       "      <td>-141.2</td>\n",
       "      <td>-141.2</td>\n",
       "      <td>-141.2</td>\n",
       "      <td>-141.2</td>\n",
       "      <td>-141.2</td>\n",
       "      <td>-141.2</td>\n",
       "      <td>-141.2</td>\n",
       "    </tr>\n",
       "    <tr>\n",
       "      <th>3</th>\n",
       "      <td>0</td>\n",
       "      <td>0</td>\n",
       "      <td>0</td>\n",
       "      <td>0</td>\n",
       "      <td>0</td>\n",
       "      <td>0</td>\n",
       "      <td>0</td>\n",
       "      <td>0</td>\n",
       "      <td>0</td>\n",
       "      <td>0</td>\n",
       "      <td>...</td>\n",
       "      <td>47.1</td>\n",
       "      <td>47.1</td>\n",
       "      <td>47.1</td>\n",
       "      <td>47.1</td>\n",
       "      <td>47.1</td>\n",
       "      <td>47.1</td>\n",
       "      <td>47.1</td>\n",
       "      <td>47.1</td>\n",
       "      <td>47.1</td>\n",
       "      <td>47.1</td>\n",
       "    </tr>\n",
       "    <tr>\n",
       "      <th>4</th>\n",
       "      <td>0</td>\n",
       "      <td>0</td>\n",
       "      <td>0</td>\n",
       "      <td>0</td>\n",
       "      <td>0</td>\n",
       "      <td>0</td>\n",
       "      <td>0</td>\n",
       "      <td>0</td>\n",
       "      <td>0</td>\n",
       "      <td>0</td>\n",
       "      <td>...</td>\n",
       "      <td>0.0</td>\n",
       "      <td>0.0</td>\n",
       "      <td>0.0</td>\n",
       "      <td>0.0</td>\n",
       "      <td>0.0</td>\n",
       "      <td>0.0</td>\n",
       "      <td>0.0</td>\n",
       "      <td>0.0</td>\n",
       "      <td>0.0</td>\n",
       "      <td>0.0</td>\n",
       "    </tr>\n",
       "  </tbody>\n",
       "</table>\n",
       "<p>5 rows × 40000 columns</p>\n",
       "</div>"
      ],
      "text/plain": [
       "   0      1      2      3      4      5      6      7      8      9      ...  \\\n",
       "0      0      0      0      0      0      0      0      0      0      0  ...   \n",
       "1      0      0      0      0      0      0      0      0      0      0  ...   \n",
       "2      0      0      0      0      0      0      0      0      0      0  ...   \n",
       "3      0      0      0      0      0      0      0      0      0      0  ...   \n",
       "4      0      0      0      0      0      0      0      0      0      0  ...   \n",
       "\n",
       "   39990  39991  39992  39993  39994  39995  39996  39997  39998  39999  \n",
       "0 -139.1 -138.9 -138.7 -138.5 -138.3 -138.1 -137.9 -137.7 -137.5 -137.3  \n",
       "1  -38.2  -38.2  -38.2  -38.2  -38.2  -38.2  -38.2  -38.2  -38.2  -38.2  \n",
       "2 -141.2 -141.2 -141.2 -141.2 -141.2 -141.2 -141.2 -141.2 -141.2 -141.2  \n",
       "3   47.1   47.1   47.1   47.1   47.1   47.1   47.1   47.1   47.1   47.1  \n",
       "4    0.0    0.0    0.0    0.0    0.0    0.0    0.0    0.0    0.0    0.0  \n",
       "\n",
       "[5 rows x 40000 columns]"
      ]
     },
     "execution_count": 4,
     "metadata": {},
     "output_type": "execute_result"
    }
   ],
   "source": [
    "neg.head()\n",
    "\n",
    "neg = neg - 2705\n",
    "neg.head()"
   ]
  },
  {
   "cell_type": "code",
   "execution_count": 4,
   "id": "d2bbdfe7",
   "metadata": {},
   "outputs": [
    {
     "data": {
      "text/html": [
       "<div>\n",
       "<style scoped>\n",
       "    .dataframe tbody tr th:only-of-type {\n",
       "        vertical-align: middle;\n",
       "    }\n",
       "\n",
       "    .dataframe tbody tr th {\n",
       "        vertical-align: top;\n",
       "    }\n",
       "\n",
       "    .dataframe thead th {\n",
       "        text-align: right;\n",
       "    }\n",
       "</style>\n",
       "<table border=\"1\" class=\"dataframe\">\n",
       "  <thead>\n",
       "    <tr style=\"text-align: right;\">\n",
       "      <th></th>\n",
       "      <th>0</th>\n",
       "      <th>1</th>\n",
       "      <th>2</th>\n",
       "      <th>3</th>\n",
       "      <th>4</th>\n",
       "      <th>5</th>\n",
       "      <th>6</th>\n",
       "      <th>7</th>\n",
       "      <th>8</th>\n",
       "      <th>9</th>\n",
       "      <th>...</th>\n",
       "      <th>39990</th>\n",
       "      <th>39991</th>\n",
       "      <th>39992</th>\n",
       "      <th>39993</th>\n",
       "      <th>39994</th>\n",
       "      <th>39995</th>\n",
       "      <th>39996</th>\n",
       "      <th>39997</th>\n",
       "      <th>39998</th>\n",
       "      <th>39999</th>\n",
       "    </tr>\n",
       "  </thead>\n",
       "  <tbody>\n",
       "    <tr>\n",
       "      <th>0</th>\n",
       "      <td>0</td>\n",
       "      <td>0</td>\n",
       "      <td>0</td>\n",
       "      <td>0</td>\n",
       "      <td>0</td>\n",
       "      <td>0</td>\n",
       "      <td>0</td>\n",
       "      <td>0</td>\n",
       "      <td>0</td>\n",
       "      <td>0</td>\n",
       "      <td>...</td>\n",
       "      <td>-208.5</td>\n",
       "      <td>-208.5</td>\n",
       "      <td>-208.5</td>\n",
       "      <td>-208.5</td>\n",
       "      <td>-208.5</td>\n",
       "      <td>-208.5</td>\n",
       "      <td>-208.5</td>\n",
       "      <td>-208.5</td>\n",
       "      <td>-208.5</td>\n",
       "      <td>-208.5</td>\n",
       "    </tr>\n",
       "    <tr>\n",
       "      <th>1</th>\n",
       "      <td>0</td>\n",
       "      <td>0</td>\n",
       "      <td>0</td>\n",
       "      <td>0</td>\n",
       "      <td>0</td>\n",
       "      <td>0</td>\n",
       "      <td>0</td>\n",
       "      <td>0</td>\n",
       "      <td>0</td>\n",
       "      <td>0</td>\n",
       "      <td>...</td>\n",
       "      <td>73.1</td>\n",
       "      <td>73.0</td>\n",
       "      <td>73.0</td>\n",
       "      <td>72.9</td>\n",
       "      <td>72.8</td>\n",
       "      <td>72.7</td>\n",
       "      <td>72.6</td>\n",
       "      <td>72.5</td>\n",
       "      <td>72.4</td>\n",
       "      <td>72.3</td>\n",
       "    </tr>\n",
       "    <tr>\n",
       "      <th>2</th>\n",
       "      <td>0</td>\n",
       "      <td>0</td>\n",
       "      <td>0</td>\n",
       "      <td>0</td>\n",
       "      <td>0</td>\n",
       "      <td>0</td>\n",
       "      <td>0</td>\n",
       "      <td>0</td>\n",
       "      <td>0</td>\n",
       "      <td>0</td>\n",
       "      <td>...</td>\n",
       "      <td>71.2</td>\n",
       "      <td>71.2</td>\n",
       "      <td>71.2</td>\n",
       "      <td>71.2</td>\n",
       "      <td>71.2</td>\n",
       "      <td>71.2</td>\n",
       "      <td>71.2</td>\n",
       "      <td>71.2</td>\n",
       "      <td>71.2</td>\n",
       "      <td>71.2</td>\n",
       "    </tr>\n",
       "    <tr>\n",
       "      <th>3</th>\n",
       "      <td>0</td>\n",
       "      <td>0</td>\n",
       "      <td>0</td>\n",
       "      <td>0</td>\n",
       "      <td>0</td>\n",
       "      <td>0</td>\n",
       "      <td>0</td>\n",
       "      <td>0</td>\n",
       "      <td>0</td>\n",
       "      <td>0</td>\n",
       "      <td>...</td>\n",
       "      <td>-2.0</td>\n",
       "      <td>-2.0</td>\n",
       "      <td>-2.0</td>\n",
       "      <td>-2.0</td>\n",
       "      <td>-2.0</td>\n",
       "      <td>-2.0</td>\n",
       "      <td>-2.0</td>\n",
       "      <td>-2.0</td>\n",
       "      <td>-2.0</td>\n",
       "      <td>-2.0</td>\n",
       "    </tr>\n",
       "    <tr>\n",
       "      <th>4</th>\n",
       "      <td>0</td>\n",
       "      <td>0</td>\n",
       "      <td>0</td>\n",
       "      <td>0</td>\n",
       "      <td>0</td>\n",
       "      <td>0</td>\n",
       "      <td>0</td>\n",
       "      <td>0</td>\n",
       "      <td>0</td>\n",
       "      <td>0</td>\n",
       "      <td>...</td>\n",
       "      <td>178.0</td>\n",
       "      <td>178.0</td>\n",
       "      <td>178.0</td>\n",
       "      <td>178.0</td>\n",
       "      <td>178.0</td>\n",
       "      <td>178.0</td>\n",
       "      <td>178.0</td>\n",
       "      <td>178.0</td>\n",
       "      <td>178.0</td>\n",
       "      <td>178.0</td>\n",
       "    </tr>\n",
       "  </tbody>\n",
       "</table>\n",
       "<p>5 rows × 40000 columns</p>\n",
       "</div>"
      ],
      "text/plain": [
       "   0      1      2      3      4      5      6      7      8      9      ...  \\\n",
       "0      0      0      0      0      0      0      0      0      0      0  ...   \n",
       "1      0      0      0      0      0      0      0      0      0      0  ...   \n",
       "2      0      0      0      0      0      0      0      0      0      0  ...   \n",
       "3      0      0      0      0      0      0      0      0      0      0  ...   \n",
       "4      0      0      0      0      0      0      0      0      0      0  ...   \n",
       "\n",
       "   39990  39991  39992  39993  39994  39995  39996  39997  39998  39999  \n",
       "0 -208.5 -208.5 -208.5 -208.5 -208.5 -208.5 -208.5 -208.5 -208.5 -208.5  \n",
       "1   73.1   73.0   73.0   72.9   72.8   72.7   72.6   72.5   72.4   72.3  \n",
       "2   71.2   71.2   71.2   71.2   71.2   71.2   71.2   71.2   71.2   71.2  \n",
       "3   -2.0   -2.0   -2.0   -2.0   -2.0   -2.0   -2.0   -2.0   -2.0   -2.0  \n",
       "4  178.0  178.0  178.0  178.0  178.0  178.0  178.0  178.0  178.0  178.0  \n",
       "\n",
       "[5 rows x 40000 columns]"
      ]
     },
     "execution_count": 4,
     "metadata": {},
     "output_type": "execute_result"
    }
   ],
   "source": [
    "pos.head()\n",
    "\n",
    "pos = pos - 2705\n",
    "pos.head()"
   ]
  },
  {
   "cell_type": "code",
   "execution_count": 5,
   "id": "c06d8ab4",
   "metadata": {},
   "outputs": [],
   "source": [
    "neg.shape\n",
    "\n",
    "z_neg = neg.to_numpy()\n",
    "z_pos = pos.to_numpy()\n",
    "\n",
    "rentang = 1\n",
    "\n",
    "z_neg_norm = np.delete(z_neg.flatten(), np.where(z_neg.flatten() == 0))\n",
    "z_pos_norm = np.delete(z_pos.flatten(), np.where(z_pos.flatten() == 0))"
   ]
  },
  {
   "cell_type": "code",
   "execution_count": 6,
   "id": "1b9e10a2",
   "metadata": {},
   "outputs": [
    {
     "name": "stdout",
     "output_type": "stream",
     "text": [
      "0.0\n",
      "(array([      0,       1,       2, ..., 1966419, 1966420, 1966421],\n",
      "      dtype=int64),)\n"
     ]
    }
   ],
   "source": [
    "z_neg_flat = z_neg.flatten()\n",
    "index = np.where(z_neg_flat == 0)\n",
    "print(z_neg[49,6421])\n",
    "print(index)"
   ]
  },
  {
   "cell_type": "code",
   "execution_count": 7,
   "id": "40880490",
   "metadata": {},
   "outputs": [
    {
     "data": {
      "text/plain": [
       "<matplotlib.legend.Legend at 0x1fd540769d0>"
      ]
     },
     "execution_count": 7,
     "metadata": {},
     "output_type": "execute_result"
    },
    {
     "data": {
      "image/png": "[encoded data removed]",
      "text/plain": [
       "<Figure size 720x720 with 1 Axes>"
      ]
     },
     "metadata": {
      "needs_background": "light"
     },
     "output_type": "display_data"
    }
   ],
   "source": [
    "fig = plt.figure(figsize=(10,10))\n",
    "ax = plt.subplot()\n",
    "\n",
    "unique, counts = np.unique(z_neg_norm, return_counts=True)\n",
    "ax.plot(unique, counts)\n",
    "\n",
    "unique, counts = np.unique(z_pos_norm, return_counts=True)\n",
    "ax.plot(unique, counts)\n",
    "\n",
    "ax.legend(['Negatif', 'Positif'])"
   ]
  },
  {
   "cell_type": "code",
   "execution_count": 8,
   "id": "11d6609e",
   "metadata": {},
   "outputs": [
    {
     "name": "stdout",
     "output_type": "stream",
     "text": [
      "KstestResult(statistic=1.0, pvalue=0.0)\n",
      "ShapiroResult(statistic=0.713624119758606, pvalue=0.0)\n"
     ]
    },
    {
     "name": "stderr",
     "output_type": "stream",
     "text": [
      "C:\\Users\\ARDI\\anaconda3\\lib\\site-packages\\scipy\\stats\\morestats.py:1760: UserWarning: p-value may not be accurate for N > 5000.\n",
      "  warnings.warn(\"p-value may not be accurate for N > 5000.\")\n"
     ]
    },
    {
     "data": {
      "text/html": [
       "<div>\n",
       "<style scoped>\n",
       "    .dataframe tbody tr th:only-of-type {\n",
       "        vertical-align: middle;\n",
       "    }\n",
       "\n",
       "    .dataframe tbody tr th {\n",
       "        vertical-align: top;\n",
       "    }\n",
       "\n",
       "    .dataframe thead th {\n",
       "        text-align: right;\n",
       "    }\n",
       "</style>\n",
       "<table border=\"1\" class=\"dataframe\">\n",
       "  <thead>\n",
       "    <tr style=\"text-align: right;\">\n",
       "      <th></th>\n",
       "      <th>0</th>\n",
       "      <th>1</th>\n",
       "      <th>2</th>\n",
       "      <th>3</th>\n",
       "      <th>4</th>\n",
       "      <th>5</th>\n",
       "      <th>6</th>\n",
       "      <th>7</th>\n",
       "      <th>8</th>\n",
       "      <th>9</th>\n",
       "      <th>...</th>\n",
       "      <th>39990</th>\n",
       "      <th>39991</th>\n",
       "      <th>39992</th>\n",
       "      <th>39993</th>\n",
       "      <th>39994</th>\n",
       "      <th>39995</th>\n",
       "      <th>39996</th>\n",
       "      <th>39997</th>\n",
       "      <th>39998</th>\n",
       "      <th>39999</th>\n",
       "    </tr>\n",
       "  </thead>\n",
       "  <tbody>\n",
       "    <tr>\n",
       "      <th>0</th>\n",
       "      <td>0</td>\n",
       "      <td>0</td>\n",
       "      <td>0</td>\n",
       "      <td>0</td>\n",
       "      <td>0</td>\n",
       "      <td>0</td>\n",
       "      <td>0</td>\n",
       "      <td>0</td>\n",
       "      <td>0</td>\n",
       "      <td>0</td>\n",
       "      <td>...</td>\n",
       "      <td>-139.1</td>\n",
       "      <td>-138.9</td>\n",
       "      <td>-138.7</td>\n",
       "      <td>-138.5</td>\n",
       "      <td>-138.3</td>\n",
       "      <td>-138.1</td>\n",
       "      <td>-137.9</td>\n",
       "      <td>-137.7</td>\n",
       "      <td>-137.5</td>\n",
       "      <td>-137.3</td>\n",
       "    </tr>\n",
       "  </tbody>\n",
       "</table>\n",
       "<p>1 rows × 40000 columns</p>\n",
       "</div>"
      ],
      "text/plain": [
       "   0      1      2      3      4      5      6      7      8      9      ...  \\\n",
       "0      0      0      0      0      0      0      0      0      0      0  ...   \n",
       "\n",
       "   39990  39991  39992  39993  39994  39995  39996  39997  39998  39999  \n",
       "0 -139.1 -138.9 -138.7 -138.5 -138.3 -138.1 -137.9 -137.7 -137.5 -137.3  \n",
       "\n",
       "[1 rows x 40000 columns]"
      ]
     },
     "execution_count": 8,
     "metadata": {},
     "output_type": "execute_result"
    }
   ],
   "source": [
    "from scipy.stats import kstest, shapiro\n",
    "\n",
    "ksdata = kstest(neg.iloc[[0]], 'norm')\n",
    "swdata = shapiro(neg.iloc[[0]])\n",
    "print(ksdata)\n",
    "print(swdata)\n",
    "\n",
    "neg.iloc[[0]]"
   ]
  },
  {
   "cell_type": "markdown",
   "id": "a197fb7d",
   "metadata": {},
   "source": [
    "# Data negatif dengan frekuensi 0"
   ]
  },
  {
   "cell_type": "code",
   "execution_count": 7,
   "id": "8edd08ce",
   "metadata": {},
   "outputs": [
    {
     "data": {
      "text/plain": [
       "<seaborn.axisgrid.FacetGrid at 0x199600bd3d0>"
      ]
     },
     "execution_count": 7,
     "metadata": {},
     "output_type": "execute_result"
    },
    {
     "data": {
      "image/png": "[encoded data removed]",
      "text/plain": [
       "<Figure size 540x360 with 1 Axes>"
      ]
     },
     "metadata": {
      "needs_background": "light"
     },
     "output_type": "display_data"
    }
   ],
   "source": [
    "sns.displot(z_neg.flatten(), bins = 100, aspect = 1.5)"
   ]
  },
  {
   "cell_type": "code",
   "execution_count": 8,
   "id": "725e601a",
   "metadata": {},
   "outputs": [
    {
     "data": {
      "text/html": [
       "<div>\n",
       "<style scoped>\n",
       "    .dataframe tbody tr th:only-of-type {\n",
       "        vertical-align: middle;\n",
       "    }\n",
       "\n",
       "    .dataframe tbody tr th {\n",
       "        vertical-align: top;\n",
       "    }\n",
       "\n",
       "    .dataframe thead th {\n",
       "        text-align: right;\n",
       "    }\n",
       "</style>\n",
       "<table border=\"1\" class=\"dataframe\">\n",
       "  <thead>\n",
       "    <tr style=\"text-align: right;\">\n",
       "      <th></th>\n",
       "      <th>sumsquare_error</th>\n",
       "      <th>aic</th>\n",
       "      <th>bic</th>\n",
       "      <th>kl_div</th>\n",
       "    </tr>\n",
       "  </thead>\n",
       "  <tbody>\n",
       "    <tr>\n",
       "      <th>cauchy</th>\n",
       "      <td>0.000047</td>\n",
       "      <td>1940.397334</td>\n",
       "      <td>-4.893878e+07</td>\n",
       "      <td>inf</td>\n",
       "    </tr>\n",
       "    <tr>\n",
       "      <th>rayleigh</th>\n",
       "      <td>0.000074</td>\n",
       "      <td>inf</td>\n",
       "      <td>-4.804767e+07</td>\n",
       "      <td>0.300736</td>\n",
       "    </tr>\n",
       "    <tr>\n",
       "      <th>chi2</th>\n",
       "      <td>0.000084</td>\n",
       "      <td>4814.775741</td>\n",
       "      <td>-4.777581e+07</td>\n",
       "      <td>inf</td>\n",
       "    </tr>\n",
       "    <tr>\n",
       "      <th>lognorm</th>\n",
       "      <td>0.000085</td>\n",
       "      <td>3500.368346</td>\n",
       "      <td>-4.775209e+07</td>\n",
       "      <td>inf</td>\n",
       "    </tr>\n",
       "    <tr>\n",
       "      <th>norm</th>\n",
       "      <td>0.000086</td>\n",
       "      <td>3461.984772</td>\n",
       "      <td>-4.774980e+07</td>\n",
       "      <td>inf</td>\n",
       "    </tr>\n",
       "  </tbody>\n",
       "</table>\n",
       "</div>"
      ],
      "text/plain": [
       "          sumsquare_error          aic           bic    kl_div\n",
       "cauchy           0.000047  1940.397334 -4.893878e+07       inf\n",
       "rayleigh         0.000074          inf -4.804767e+07  0.300736\n",
       "chi2             0.000084  4814.775741 -4.777581e+07       inf\n",
       "lognorm          0.000085  3500.368346 -4.775209e+07       inf\n",
       "norm             0.000086  3461.984772 -4.774980e+07       inf"
      ]
     },
     "execution_count": 8,
     "metadata": {},
     "output_type": "execute_result"
    },
    {
     "data": {
      "image/png": "[encoded data removed]",
      "text/plain": [
       "<Figure size 540x360 with 1 Axes>"
      ]
     },
     "metadata": {
      "needs_background": "light"
     },
     "output_type": "display_data"
    }
   ],
   "source": [
    "sns.displot(z_neg.flatten(), bins = 100, aspect = 1.5)\n",
    "f = Fitter(z_neg.flatten(),\n",
    "           distributions=[\"cauchy\",\n",
    "        \"chi2\",\n",
    "        \"expon\",\n",
    "        \"exponpow\",\n",
    "        \"gamma\",\n",
    "        \"lognorm\",\n",
    "        \"norm\",\n",
    "        \"powerlaw\",\n",
    "        \"rayleigh\",\n",
    "        \"uniform\",\n",
    "    ],\n",
    "          timeout=1000)\n",
    "f.fit()\n",
    "f.summary()"
   ]
  },
  {
   "cell_type": "code",
   "execution_count": 9,
   "id": "edea3eae",
   "metadata": {},
   "outputs": [
    {
     "data": {
      "text/plain": [
       "{'cauchy': {'loc': 18.882653234406487, 'scale': 55.531053436175114}}"
      ]
     },
     "execution_count": 9,
     "metadata": {},
     "output_type": "execute_result"
    }
   ],
   "source": [
    "f.get_best(method = 'sumsquare_error')"
   ]
  },
  {
   "cell_type": "markdown",
   "id": "385364d6",
   "metadata": {},
   "source": [
    "# Data negatif tanpa frekuensi 0"
   ]
  },
  {
   "cell_type": "code",
   "execution_count": 8,
   "id": "1190de17",
   "metadata": {},
   "outputs": [
    {
     "data": {
      "text/plain": [
       "<seaborn.axisgrid.FacetGrid at 0x19961c55a00>"
      ]
     },
     "execution_count": 8,
     "metadata": {},
     "output_type": "execute_result"
    },
    {
     "data": {
      "image/png": "[encoded data removed]",
      "text/plain": [
       "<Figure size 540x360 with 1 Axes>"
      ]
     },
     "metadata": {
      "needs_background": "light"
     },
     "output_type": "display_data"
    }
   ],
   "source": [
    "sns.displot(z_neg_norm.flatten(), bins = 100, aspect = 1.5)"
   ]
  },
  {
   "cell_type": "code",
   "execution_count": 10,
   "id": "6c09bded",
   "metadata": {},
   "outputs": [
    {
     "data": {
      "text/html": [
       "<div>\n",
       "<style scoped>\n",
       "    .dataframe tbody tr th:only-of-type {\n",
       "        vertical-align: middle;\n",
       "    }\n",
       "\n",
       "    .dataframe tbody tr th {\n",
       "        vertical-align: top;\n",
       "    }\n",
       "\n",
       "    .dataframe thead th {\n",
       "        text-align: right;\n",
       "    }\n",
       "</style>\n",
       "<table border=\"1\" class=\"dataframe\">\n",
       "  <thead>\n",
       "    <tr style=\"text-align: right;\">\n",
       "      <th></th>\n",
       "      <th>sumsquare_error</th>\n",
       "      <th>aic</th>\n",
       "      <th>bic</th>\n",
       "      <th>kl_div</th>\n",
       "    </tr>\n",
       "  </thead>\n",
       "  <tbody>\n",
       "    <tr>\n",
       "      <th>cauchy</th>\n",
       "      <td>0.000010</td>\n",
       "      <td>1891.050723</td>\n",
       "      <td>-4.282328e+07</td>\n",
       "      <td>inf</td>\n",
       "    </tr>\n",
       "    <tr>\n",
       "      <th>lognorm</th>\n",
       "      <td>0.000022</td>\n",
       "      <td>3174.889805</td>\n",
       "      <td>-4.146331e+07</td>\n",
       "      <td>inf</td>\n",
       "    </tr>\n",
       "    <tr>\n",
       "      <th>norm</th>\n",
       "      <td>0.000022</td>\n",
       "      <td>3131.579471</td>\n",
       "      <td>-4.145140e+07</td>\n",
       "      <td>inf</td>\n",
       "    </tr>\n",
       "    <tr>\n",
       "      <th>chi2</th>\n",
       "      <td>0.000024</td>\n",
       "      <td>3475.135751</td>\n",
       "      <td>-4.134601e+07</td>\n",
       "      <td>inf</td>\n",
       "    </tr>\n",
       "    <tr>\n",
       "      <th>powerlaw</th>\n",
       "      <td>0.000074</td>\n",
       "      <td>1642.584892</td>\n",
       "      <td>-3.946198e+07</td>\n",
       "      <td>inf</td>\n",
       "    </tr>\n",
       "  </tbody>\n",
       "</table>\n",
       "</div>"
      ],
      "text/plain": [
       "          sumsquare_error          aic           bic  kl_div\n",
       "cauchy           0.000010  1891.050723 -4.282328e+07     inf\n",
       "lognorm          0.000022  3174.889805 -4.146331e+07     inf\n",
       "norm             0.000022  3131.579471 -4.145140e+07     inf\n",
       "chi2             0.000024  3475.135751 -4.134601e+07     inf\n",
       "powerlaw         0.000074  1642.584892 -3.946198e+07     inf"
      ]
     },
     "execution_count": 10,
     "metadata": {},
     "output_type": "execute_result"
    },
    {
     "data": {
      "image/png": "[encoded data removed]",
      "text/plain": [
       "<Figure size 540x360 with 1 Axes>"
      ]
     },
     "metadata": {
      "needs_background": "light"
     },
     "output_type": "display_data"
    }
   ],
   "source": [
    "sns.displot(z_neg_norm.flatten(), bins = 100, aspect = 1.5)\n",
    "f = Fitter(z_neg_norm.flatten(),\n",
    "           distributions=[\"cauchy\",\n",
    "        \"chi2\",\n",
    "        \"expon\",\n",
    "        \"exponpow\",\n",
    "        \"gamma\",\n",
    "        \"lognorm\",\n",
    "        \"norm\",\n",
    "        \"powerlaw\",\n",
    "        \"rayleigh\",\n",
    "        \"uniform\",\n",
    "    ],\n",
    "          timeout=1000)\n",
    "f.fit()\n",
    "f.summary()"
   ]
  },
  {
   "cell_type": "code",
   "execution_count": 11,
   "id": "71320790",
   "metadata": {},
   "outputs": [
    {
     "data": {
      "text/plain": [
       "{'cauchy': {'loc': 42.577113539473515, 'scale': 74.81964322319904}}"
      ]
     },
     "execution_count": 11,
     "metadata": {},
     "output_type": "execute_result"
    }
   ],
   "source": [
    "f.get_best(method = 'sumsquare_error')"
   ]
  },
  {
   "cell_type": "markdown",
   "id": "e874c722",
   "metadata": {},
   "source": [
    "# Data positif dengan frekuensi 0"
   ]
  },
  {
   "cell_type": "code",
   "execution_count": 9,
   "id": "15fe6e5c",
   "metadata": {},
   "outputs": [
    {
     "data": {
      "text/plain": [
       "<seaborn.axisgrid.FacetGrid at 0x19961b6e7f0>"
      ]
     },
     "execution_count": 9,
     "metadata": {},
     "output_type": "execute_result"
    },
    {
     "data": {
      "image/png": "[encoded data removed]",
      "text/plain": [
       "<Figure size 540x360 with 1 Axes>"
      ]
     },
     "metadata": {
      "needs_background": "light"
     },
     "output_type": "display_data"
    }
   ],
   "source": [
    "sns.displot(z_pos.flatten(), bins = 100, aspect = 1.5)"
   ]
  },
  {
   "cell_type": "code",
   "execution_count": 12,
   "id": "96c4ee62",
   "metadata": {},
   "outputs": [
    {
     "data": {
      "text/html": [
       "<div>\n",
       "<style scoped>\n",
       "    .dataframe tbody tr th:only-of-type {\n",
       "        vertical-align: middle;\n",
       "    }\n",
       "\n",
       "    .dataframe tbody tr th {\n",
       "        vertical-align: top;\n",
       "    }\n",
       "\n",
       "    .dataframe thead th {\n",
       "        text-align: right;\n",
       "    }\n",
       "</style>\n",
       "<table border=\"1\" class=\"dataframe\">\n",
       "  <thead>\n",
       "    <tr style=\"text-align: right;\">\n",
       "      <th></th>\n",
       "      <th>sumsquare_error</th>\n",
       "      <th>aic</th>\n",
       "      <th>bic</th>\n",
       "      <th>kl_div</th>\n",
       "    </tr>\n",
       "  </thead>\n",
       "  <tbody>\n",
       "    <tr>\n",
       "      <th>cauchy</th>\n",
       "      <td>0.000026</td>\n",
       "      <td>1913.247845</td>\n",
       "      <td>-5.012324e+07</td>\n",
       "      <td>0.154983</td>\n",
       "    </tr>\n",
       "    <tr>\n",
       "      <th>lognorm</th>\n",
       "      <td>0.000045</td>\n",
       "      <td>2900.768185</td>\n",
       "      <td>-4.901297e+07</td>\n",
       "      <td>0.258754</td>\n",
       "    </tr>\n",
       "    <tr>\n",
       "      <th>norm</th>\n",
       "      <td>0.000046</td>\n",
       "      <td>2866.577470</td>\n",
       "      <td>-4.900932e+07</td>\n",
       "      <td>0.259822</td>\n",
       "    </tr>\n",
       "    <tr>\n",
       "      <th>gamma</th>\n",
       "      <td>0.000055</td>\n",
       "      <td>2323.227907</td>\n",
       "      <td>-4.863360e+07</td>\n",
       "      <td>0.391149</td>\n",
       "    </tr>\n",
       "    <tr>\n",
       "      <th>powerlaw</th>\n",
       "      <td>0.000088</td>\n",
       "      <td>1655.741724</td>\n",
       "      <td>-4.768853e+07</td>\n",
       "      <td>1.804909</td>\n",
       "    </tr>\n",
       "  </tbody>\n",
       "</table>\n",
       "</div>"
      ],
      "text/plain": [
       "          sumsquare_error          aic           bic    kl_div\n",
       "cauchy           0.000026  1913.247845 -5.012324e+07  0.154983\n",
       "lognorm          0.000045  2900.768185 -4.901297e+07  0.258754\n",
       "norm             0.000046  2866.577470 -4.900932e+07  0.259822\n",
       "gamma            0.000055  2323.227907 -4.863360e+07  0.391149\n",
       "powerlaw         0.000088  1655.741724 -4.768853e+07  1.804909"
      ]
     },
     "execution_count": 12,
     "metadata": {},
     "output_type": "execute_result"
    },
    {
     "data": {
      "image/png": "[encoded data removed]",
      "text/plain": [
       "<Figure size 540x360 with 1 Axes>"
      ]
     },
     "metadata": {
      "needs_background": "light"
     },
     "output_type": "display_data"
    }
   ],
   "source": [
    "sns.displot(z_pos.flatten(), bins = 100, aspect = 1.5)\n",
    "f = Fitter(z_pos.flatten(),\n",
    "           distributions=[\"cauchy\",\n",
    "        \"chi2\",\n",
    "        \"expon\",\n",
    "        \"exponpow\",\n",
    "        \"gamma\",\n",
    "        \"lognorm\",\n",
    "        \"norm\",\n",
    "        \"powerlaw\",\n",
    "        \"rayleigh\",\n",
    "        \"uniform\",\n",
    "    ],\n",
    "          timeout=1000)\n",
    "f.fit()\n",
    "f.summary()"
   ]
  },
  {
   "cell_type": "code",
   "execution_count": 13,
   "id": "f0120449",
   "metadata": {},
   "outputs": [
    {
     "data": {
      "text/plain": [
       "{'cauchy': {'loc': 27.09623810096236, 'scale': 74.70522079911717}}"
      ]
     },
     "execution_count": 13,
     "metadata": {},
     "output_type": "execute_result"
    }
   ],
   "source": [
    "f.get_best(method = 'sumsquare_error')"
   ]
  },
  {
   "cell_type": "markdown",
   "id": "ddbf2c0c",
   "metadata": {},
   "source": [
    "# Data posotif tanpa frekuensi 0"
   ]
  },
  {
   "cell_type": "code",
   "execution_count": 10,
   "id": "e222a827",
   "metadata": {},
   "outputs": [
    {
     "data": {
      "text/plain": [
       "<seaborn.axisgrid.FacetGrid at 0x19961b15a90>"
      ]
     },
     "execution_count": 10,
     "metadata": {},
     "output_type": "execute_result"
    },
    {
     "data": {
      "image/png": "[encoded data removed]",
      "text/plain": [
       "<Figure size 540x360 with 1 Axes>"
      ]
     },
     "metadata": {
      "needs_background": "light"
     },
     "output_type": "display_data"
    }
   ],
   "source": [
    "sns.displot(z_pos_norm.flatten(), bins = 100, aspect = 1.5)"
   ]
  },
  {
   "cell_type": "code",
   "execution_count": 12,
   "id": "e53d2d40",
   "metadata": {},
   "outputs": [
    {
     "data": {
      "text/plain": [
       "{'cauchy': {'loc': 41.87718274923669, 'scale': 89.4013837279353}}"
      ]
     },
     "execution_count": 12,
     "metadata": {},
     "output_type": "execute_result"
    },
    {
     "data": {
      "image/png": "[encoded data removed]",
      "text/plain": [
       "<Figure size 540x360 with 1 Axes>"
      ]
     },
     "metadata": {
      "needs_background": "light"
     },
     "output_type": "display_data"
    }
   ],
   "source": [
    "sns.displot(z_pos_norm.flatten(), bins = 100, aspect = 1.5)\n",
    "f = Fitter(z_pos_norm.flatten(),\n",
    "           distributions=[\"cauchy\",\n",
    "        \"chi2\",\n",
    "        \"expon\",\n",
    "        \"exponpow\",\n",
    "        \"gamma\",\n",
    "        \"lognorm\",\n",
    "        \"norm\",\n",
    "        \"powerlaw\",\n",
    "        \"rayleigh\",\n",
    "        \"uniform\",\n",
    "    ],\n",
    "          timeout=1000)\n",
    "f.fit()\n",
    "f.summary()\n",
    "f.get_best(method = 'sumsquare_error')"
   ]
  },
  {
   "cell_type": "code",
   "execution_count": null,
   "id": "2ec41db7",
   "metadata": {},
   "outputs": [],
   "source": []
  }
 ],
 "metadata": {
  "kernelspec": {
   "display_name": "Python 3 (ipykernel)",
   "language": "python",
   "name": "python3"
  },
  "language_info": {
   "codemirror_mode": {
    "name": "ipython",
    "version": 3
   },
   "file_extension": ".py",
   "mimetype": "text/x-python",
   "name": "python",
   "nbconvert_exporter": "python",
   "pygments_lexer": "ipython3",
   "version": "3.8.8"
  }
 },
 "nbformat": 4,
 "nbformat_minor": 5
}
